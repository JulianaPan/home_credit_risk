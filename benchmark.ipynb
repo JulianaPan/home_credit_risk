{
 "cells": [
  {
   "cell_type": "code",
   "execution_count": 2,
   "metadata": {
    "ExecuteTime": {
     "end_time": "2019-10-28T17:58:40.176740Z",
     "start_time": "2019-10-28T17:58:26.371153Z"
    },
    "collapsed": true
   },
   "outputs": [],
   "source": [
    "import warnings\n",
    "warnings.filterwarnings('ignore')\n",
    "\n",
    "import pandas as pd\n",
    "import numpy as np\n",
    "import matplotlib.pyplot as plt\n",
    "\n",
    "import MySQLdb\n",
    "from sqlalchemy import create_engine\n",
    "\n",
    "import tools.feature_selection as fs\n",
    "import tools.preprocessing as ps\n",
    "import tools.evaluations as ev"
   ]
  },
  {
   "cell_type": "markdown",
   "metadata": {},
   "source": [
    "## Data Import"
   ]
  },
  {
   "cell_type": "markdown",
   "metadata": {},
   "source": [
    "### Import data from Database"
   ]
  },
  {
   "cell_type": "code",
   "execution_count": 6,
   "metadata": {
    "ExecuteTime": {
     "end_time": "2019-10-26T03:56:19.565037Z",
     "start_time": "2019-10-26T03:56:19.558057Z"
    },
    "collapsed": true
   },
   "outputs": [],
   "source": [
    "host = 'db1.ceobypqfxmry.us-east-2.rds.amazonaws.com'\n",
    "port = '3306'\n",
    "db = 'db'\n",
    "user = 'admin'\n",
    "password = 'msbd5001'\n",
    "tb = 'pa_attr'\n",
    "engine = create_engine(str(r\"mysql+mysqldb://%s:\" + '%s' + \"@%s/%s\") % (user, password, host, db))"
   ]
  },
  {
   "cell_type": "code",
   "execution_count": 7,
   "metadata": {
    "ExecuteTime": {
     "end_time": "2019-10-26T03:58:19.308044Z",
     "start_time": "2019-10-26T03:56:20.341423Z"
    }
   },
   "outputs": [
    {
     "data": {
      "text/html": [
       "<div>\n",
       "<style scoped>\n",
       "    .dataframe tbody tr th:only-of-type {\n",
       "        vertical-align: middle;\n",
       "    }\n",
       "\n",
       "    .dataframe tbody tr th {\n",
       "        vertical-align: top;\n",
       "    }\n",
       "\n",
       "    .dataframe thead th {\n",
       "        text-align: right;\n",
       "    }\n",
       "</style>\n",
       "<table border=\"1\" class=\"dataframe\">\n",
       "  <thead>\n",
       "    <tr style=\"text-align: right;\">\n",
       "      <th></th>\n",
       "      <th>SK_ID_CURR</th>\n",
       "      <th>pa_NAME_CONTRACT_STATUS_Approved_Ratio</th>\n",
       "      <th>pa_NAME_CONTRACT_STATUS_Refused_Ratio</th>\n",
       "      <th>pa_NAME_CONTRACT_STATUS_Canceled_Ratio</th>\n",
       "      <th>pa_NAME_CONTRACT_STATUS_Unused_offer_Ratio</th>\n",
       "      <th>pa_NAME_PAYMENT_TYPE_CTTB_Ratio</th>\n",
       "      <th>pa_NAME_PAYMENT_TYPE_XNA_Ratio</th>\n",
       "      <th>pa_NAME_PAYMENT_TYPE_NCFYA_Ratio</th>\n",
       "      <th>pa_NAME_PAYMENT_TYPE_CFTAOTE_Ratio</th>\n",
       "      <th>pa_CODE_REJECT_REASON_XAP_Ratio</th>\n",
       "      <th>...</th>\n",
       "      <th>previous_application_AMT_CREDIT_std</th>\n",
       "      <th>previous_application_AMT_DOWN_PAYMENT_min</th>\n",
       "      <th>previous_application_AMT_DOWN_PAYMENT_max</th>\n",
       "      <th>previous_application_AMT_DOWN_PAYMENT_avg</th>\n",
       "      <th>previous_application_AMT_DOWN_PAYMENT_std</th>\n",
       "      <th>previous_application_AMT_GOODS_PRICE_min</th>\n",
       "      <th>previous_application_AMT_GOODS_PRICE_max</th>\n",
       "      <th>previous_application_AMT_GOODS_PRICE_avg</th>\n",
       "      <th>previous_application_AMT_GOODS_PRICE_std</th>\n",
       "      <th>TARGET</th>\n",
       "    </tr>\n",
       "  </thead>\n",
       "  <tbody>\n",
       "    <tr>\n",
       "      <td>0</td>\n",
       "      <td>100002.0</td>\n",
       "      <td>1.0000</td>\n",
       "      <td>0.0000</td>\n",
       "      <td>0.0000</td>\n",
       "      <td>0.0</td>\n",
       "      <td>0.0000</td>\n",
       "      <td>1.0000</td>\n",
       "      <td>0.0</td>\n",
       "      <td>0.0</td>\n",
       "      <td>1.0000</td>\n",
       "      <td>...</td>\n",
       "      <td>0.000000</td>\n",
       "      <td>0.00</td>\n",
       "      <td>0.0</td>\n",
       "      <td>0.00</td>\n",
       "      <td>0.00</td>\n",
       "      <td>179055.00</td>\n",
       "      <td>179055.0</td>\n",
       "      <td>179055.00</td>\n",
       "      <td>0.000000</td>\n",
       "      <td>1</td>\n",
       "    </tr>\n",
       "    <tr>\n",
       "      <td>1</td>\n",
       "      <td>100003.0</td>\n",
       "      <td>1.0000</td>\n",
       "      <td>0.0000</td>\n",
       "      <td>0.0000</td>\n",
       "      <td>0.0</td>\n",
       "      <td>0.6667</td>\n",
       "      <td>0.3333</td>\n",
       "      <td>0.0</td>\n",
       "      <td>0.0</td>\n",
       "      <td>1.0000</td>\n",
       "      <td>...</td>\n",
       "      <td>406574.359640</td>\n",
       "      <td>0.00</td>\n",
       "      <td>6885.0</td>\n",
       "      <td>3442.50</td>\n",
       "      <td>3442.50</td>\n",
       "      <td>68809.50</td>\n",
       "      <td>900000.0</td>\n",
       "      <td>435436.50</td>\n",
       "      <td>346326.512939</td>\n",
       "      <td>0</td>\n",
       "    </tr>\n",
       "    <tr>\n",
       "      <td>2</td>\n",
       "      <td>100004.0</td>\n",
       "      <td>1.0000</td>\n",
       "      <td>0.0000</td>\n",
       "      <td>0.0000</td>\n",
       "      <td>0.0</td>\n",
       "      <td>1.0000</td>\n",
       "      <td>0.0000</td>\n",
       "      <td>0.0</td>\n",
       "      <td>0.0</td>\n",
       "      <td>1.0000</td>\n",
       "      <td>...</td>\n",
       "      <td>0.000000</td>\n",
       "      <td>4860.00</td>\n",
       "      <td>4860.0</td>\n",
       "      <td>4860.00</td>\n",
       "      <td>0.00</td>\n",
       "      <td>24282.00</td>\n",
       "      <td>24282.0</td>\n",
       "      <td>24282.00</td>\n",
       "      <td>0.000000</td>\n",
       "      <td>0</td>\n",
       "    </tr>\n",
       "    <tr>\n",
       "      <td>3</td>\n",
       "      <td>100006.0</td>\n",
       "      <td>0.5556</td>\n",
       "      <td>0.1111</td>\n",
       "      <td>0.3333</td>\n",
       "      <td>0.0</td>\n",
       "      <td>0.4444</td>\n",
       "      <td>0.5556</td>\n",
       "      <td>0.0</td>\n",
       "      <td>0.0</td>\n",
       "      <td>0.8889</td>\n",
       "      <td>...</td>\n",
       "      <td>314273.472053</td>\n",
       "      <td>2693.34</td>\n",
       "      <td>66987.0</td>\n",
       "      <td>34840.17</td>\n",
       "      <td>32146.83</td>\n",
       "      <td>26912.34</td>\n",
       "      <td>688500.0</td>\n",
       "      <td>408304.89</td>\n",
       "      <td>231568.518206</td>\n",
       "      <td>0</td>\n",
       "    </tr>\n",
       "    <tr>\n",
       "      <td>4</td>\n",
       "      <td>100007.0</td>\n",
       "      <td>1.0000</td>\n",
       "      <td>0.0000</td>\n",
       "      <td>0.0000</td>\n",
       "      <td>0.0</td>\n",
       "      <td>0.8333</td>\n",
       "      <td>0.1667</td>\n",
       "      <td>0.0</td>\n",
       "      <td>0.0</td>\n",
       "      <td>1.0000</td>\n",
       "      <td>...</td>\n",
       "      <td>107748.355342</td>\n",
       "      <td>3105.00</td>\n",
       "      <td>3676.5</td>\n",
       "      <td>3390.75</td>\n",
       "      <td>285.75</td>\n",
       "      <td>17176.50</td>\n",
       "      <td>247500.0</td>\n",
       "      <td>150530.25</td>\n",
       "      <td>91822.024579</td>\n",
       "      <td>0</td>\n",
       "    </tr>\n",
       "  </tbody>\n",
       "</table>\n",
       "<p>5 rows × 46 columns</p>\n",
       "</div>"
      ],
      "text/plain": [
       "   SK_ID_CURR  pa_NAME_CONTRACT_STATUS_Approved_Ratio  \\\n",
       "0    100002.0                                  1.0000   \n",
       "1    100003.0                                  1.0000   \n",
       "2    100004.0                                  1.0000   \n",
       "3    100006.0                                  0.5556   \n",
       "4    100007.0                                  1.0000   \n",
       "\n",
       "   pa_NAME_CONTRACT_STATUS_Refused_Ratio  \\\n",
       "0                                 0.0000   \n",
       "1                                 0.0000   \n",
       "2                                 0.0000   \n",
       "3                                 0.1111   \n",
       "4                                 0.0000   \n",
       "\n",
       "   pa_NAME_CONTRACT_STATUS_Canceled_Ratio  \\\n",
       "0                                  0.0000   \n",
       "1                                  0.0000   \n",
       "2                                  0.0000   \n",
       "3                                  0.3333   \n",
       "4                                  0.0000   \n",
       "\n",
       "   pa_NAME_CONTRACT_STATUS_Unused_offer_Ratio  \\\n",
       "0                                         0.0   \n",
       "1                                         0.0   \n",
       "2                                         0.0   \n",
       "3                                         0.0   \n",
       "4                                         0.0   \n",
       "\n",
       "   pa_NAME_PAYMENT_TYPE_CTTB_Ratio  pa_NAME_PAYMENT_TYPE_XNA_Ratio  \\\n",
       "0                           0.0000                          1.0000   \n",
       "1                           0.6667                          0.3333   \n",
       "2                           1.0000                          0.0000   \n",
       "3                           0.4444                          0.5556   \n",
       "4                           0.8333                          0.1667   \n",
       "\n",
       "   pa_NAME_PAYMENT_TYPE_NCFYA_Ratio  pa_NAME_PAYMENT_TYPE_CFTAOTE_Ratio  \\\n",
       "0                               0.0                                 0.0   \n",
       "1                               0.0                                 0.0   \n",
       "2                               0.0                                 0.0   \n",
       "3                               0.0                                 0.0   \n",
       "4                               0.0                                 0.0   \n",
       "\n",
       "   pa_CODE_REJECT_REASON_XAP_Ratio  ...  previous_application_AMT_CREDIT_std  \\\n",
       "0                           1.0000  ...                             0.000000   \n",
       "1                           1.0000  ...                        406574.359640   \n",
       "2                           1.0000  ...                             0.000000   \n",
       "3                           0.8889  ...                        314273.472053   \n",
       "4                           1.0000  ...                        107748.355342   \n",
       "\n",
       "   previous_application_AMT_DOWN_PAYMENT_min  \\\n",
       "0                                       0.00   \n",
       "1                                       0.00   \n",
       "2                                    4860.00   \n",
       "3                                    2693.34   \n",
       "4                                    3105.00   \n",
       "\n",
       "   previous_application_AMT_DOWN_PAYMENT_max  \\\n",
       "0                                        0.0   \n",
       "1                                     6885.0   \n",
       "2                                     4860.0   \n",
       "3                                    66987.0   \n",
       "4                                     3676.5   \n",
       "\n",
       "   previous_application_AMT_DOWN_PAYMENT_avg  \\\n",
       "0                                       0.00   \n",
       "1                                    3442.50   \n",
       "2                                    4860.00   \n",
       "3                                   34840.17   \n",
       "4                                    3390.75   \n",
       "\n",
       "   previous_application_AMT_DOWN_PAYMENT_std  \\\n",
       "0                                       0.00   \n",
       "1                                    3442.50   \n",
       "2                                       0.00   \n",
       "3                                   32146.83   \n",
       "4                                     285.75   \n",
       "\n",
       "   previous_application_AMT_GOODS_PRICE_min  \\\n",
       "0                                 179055.00   \n",
       "1                                  68809.50   \n",
       "2                                  24282.00   \n",
       "3                                  26912.34   \n",
       "4                                  17176.50   \n",
       "\n",
       "   previous_application_AMT_GOODS_PRICE_max  \\\n",
       "0                                  179055.0   \n",
       "1                                  900000.0   \n",
       "2                                   24282.0   \n",
       "3                                  688500.0   \n",
       "4                                  247500.0   \n",
       "\n",
       "   previous_application_AMT_GOODS_PRICE_avg  \\\n",
       "0                                 179055.00   \n",
       "1                                 435436.50   \n",
       "2                                  24282.00   \n",
       "3                                 408304.89   \n",
       "4                                 150530.25   \n",
       "\n",
       "   previous_application_AMT_GOODS_PRICE_std  TARGET  \n",
       "0                                  0.000000       1  \n",
       "1                             346326.512939       0  \n",
       "2                                  0.000000       0  \n",
       "3                             231568.518206       0  \n",
       "4                              91822.024579       0  \n",
       "\n",
       "[5 rows x 46 columns]"
      ]
     },
     "execution_count": 7,
     "metadata": {},
     "output_type": "execute_result"
    }
   ],
   "source": [
    "df_train = pd.read_sql_table(tb, engine)\n",
    "df_train.head()"
   ]
  },
  {
   "cell_type": "code",
   "execution_count": 8,
   "metadata": {
    "ExecuteTime": {
     "end_time": "2019-10-26T03:59:17.564649Z",
     "start_time": "2019-10-26T03:59:06.239596Z"
    },
    "collapsed": true
   },
   "outputs": [],
   "source": [
    "# save data as csv file\n",
    "df_train.to_csv('./data/pa_attr.csv', index=False)"
   ]
  },
  {
   "cell_type": "markdown",
   "metadata": {},
   "source": [
    "### Import data from csv file"
   ]
  },
  {
   "cell_type": "code",
   "execution_count": 15,
   "metadata": {
    "ExecuteTime": {
     "end_time": "2019-10-28T18:07:03.416082Z",
     "start_time": "2019-10-28T18:07:00.129200Z"
    }
   },
   "outputs": [],
   "source": [
    "#df_train = pd.read_csv('./data/pa_attr.csv')\n",
    "df_train = pd.read_csv(r'E:\\zgr\\HKUST\\MSBD5001\\project\\home-credit-default-risk\\application_train.csv')"
   ]
  },
  {
   "cell_type": "markdown",
   "metadata": {},
   "source": [
    "## Data Profiling"
   ]
  },
  {
   "cell_type": "code",
   "execution_count": 9,
   "metadata": {
    "ExecuteTime": {
     "end_time": "2019-10-26T04:00:57.865923Z",
     "start_time": "2019-10-26T03:59:47.953917Z"
    },
    "collapsed": true
   },
   "outputs": [],
   "source": [
    "import pandas_profiling\n",
    "profile = pandas_profiling.ProfileReport(df_train, check_correlation=False)\n",
    "profile.to_file('./data_profile/pa_attr.html')"
   ]
  },
  {
   "cell_type": "markdown",
   "metadata": {},
   "source": [
    "## Data Processing"
   ]
  },
  {
   "cell_type": "markdown",
   "metadata": {},
   "source": [
    "### Separating continuous and categorical variables"
   ]
  },
  {
   "cell_type": "code",
   "execution_count": 16,
   "metadata": {
    "ExecuteTime": {
     "end_time": "2019-10-28T18:07:14.703607Z",
     "start_time": "2019-10-28T18:07:13.994989Z"
    },
    "collapsed": true,
    "scrolled": false
   },
   "outputs": [],
   "source": [
    "# Separating continuous and categorical variables (setting yout own rule)\n",
    "cate_vars = []\n",
    "cont_vars = []\n",
    "for col in df_train.columns:\n",
    "    if col not in ['SK_ID_CURR','TARGET']:\n",
    "        if df_train[col].dtype in ['float64','int64'] and df_train[col].nunique() > 3:\n",
    "            cont_vars.append(col)\n",
    "        else:\n",
    "            cate_vars.append(col)"
   ]
  },
  {
   "cell_type": "code",
   "execution_count": 4,
   "metadata": {
    "ExecuteTime": {
     "end_time": "2019-10-23T02:29:46.511445Z",
     "start_time": "2019-10-23T02:29:24.404341Z"
    },
    "collapsed": true
   },
   "outputs": [],
   "source": [
    "# Encoding categorical variables\n",
    "df_train = ps.cate_enc(df_train, cate_vars)"
   ]
  },
  {
   "cell_type": "markdown",
   "metadata": {},
   "source": [
    "### Missing Values"
   ]
  },
  {
   "cell_type": "code",
   "execution_count": 18,
   "metadata": {
    "ExecuteTime": {
     "end_time": "2019-10-28T18:07:31.022819Z",
     "start_time": "2019-10-28T18:07:30.717611Z"
    }
   },
   "outputs": [],
   "source": [
    "# fill in missing values\n",
    "# if all values of the column are positive -> -1\n",
    "# if all values of the columns are negative -> 1\n",
    "all_pos = []\n",
    "all_neg = []\n",
    "both = []\n",
    "for var in cont_vars:\n",
    "    if df_train[var].max() <= 0:\n",
    "        df_train[var].fillna(1, inplace=True)\n",
    "        all_neg.append((var,(df_train[var].min(), df_train[var].max())))\n",
    "    elif df_train[var].min() >= 0:\n",
    "        df_train[var].fillna(-1, inplace=True)\n",
    "        all_pos.append((var,(df_train[var].min(), df_train[var].max())))\n",
    "    else:\n",
    "        both.append((var,(df_train[var].min(), df_train[var].max())))"
   ]
  },
  {
   "cell_type": "markdown",
   "metadata": {},
   "source": [
    "## Feature Selection"
   ]
  },
  {
   "cell_type": "code",
   "execution_count": 20,
   "metadata": {
    "ExecuteTime": {
     "end_time": "2019-10-28T18:08:51.677729Z",
     "start_time": "2019-10-28T18:08:51.405229Z"
    },
    "collapsed": true
   },
   "outputs": [],
   "source": [
    "#df_train_woe = df_train.fillna(-5)\n",
    "df_train_woe = df_train.copy()\n",
    "df_train_woe['target'] = df_train_woe['TARGET']\n",
    "df_train_woe.drop('TARGET',axis=1,inplace=True)"
   ]
  },
  {
   "cell_type": "code",
   "execution_count": 23,
   "metadata": {
    "ExecuteTime": {
     "end_time": "2019-10-28T18:10:25.570942Z",
     "start_time": "2019-10-28T18:10:25.563138Z"
    }
   },
   "outputs": [
    {
     "data": {
      "text/plain": [
       "(307511, 46)"
      ]
     },
     "execution_count": 23,
     "metadata": {},
     "output_type": "execute_result"
    }
   ],
   "source": [
    "df_train_woe.shape"
   ]
  },
  {
   "cell_type": "code",
   "execution_count": null,
   "metadata": {
    "ExecuteTime": {
     "end_time": "2019-10-23T02:29:00.475857Z",
     "start_time": "2019-10-23T02:28:56.423185Z"
    },
    "collapsed": true
   },
   "outputs": [],
   "source": [
    "df_iv = fs.cal_iv(df_train_woe,cate_vars,cont_vars,'target')"
   ]
  },
  {
   "cell_type": "code",
   "execution_count": null,
   "metadata": {
    "ExecuteTime": {
     "end_time": "2019-10-17T12:32:17.569572Z",
     "start_time": "2019-10-17T12:32:17.550625Z"
    },
    "collapsed": true,
    "scrolled": true
   },
   "outputs": [],
   "source": [
    "df_iv.to_excel('./features/df_train_iv.xlsx',index=False)"
   ]
  },
  {
   "cell_type": "code",
   "execution_count": 5,
   "metadata": {
    "ExecuteTime": {
     "end_time": "2019-10-23T02:29:46.570602Z",
     "start_time": "2019-10-23T02:29:46.513484Z"
    },
    "collapsed": true
   },
   "outputs": [],
   "source": [
    "df_iv = pd.read_excel('./features/df_train_iv.xlsx')\n",
    "iv_features_train = df_iv[df_iv['iv']>0.02]['var_name'].values"
   ]
  },
  {
   "cell_type": "markdown",
   "metadata": {},
   "source": [
    "## Modeling"
   ]
  },
  {
   "cell_type": "code",
   "execution_count": 6,
   "metadata": {
    "ExecuteTime": {
     "end_time": "2019-10-23T02:29:48.780808Z",
     "start_time": "2019-10-23T02:29:48.432406Z"
    },
    "collapsed": true
   },
   "outputs": [],
   "source": [
    "# fill in missing values.\n",
    "df_train.fillna(-1,inplace=True)"
   ]
  },
  {
   "cell_type": "code",
   "execution_count": 7,
   "metadata": {
    "ExecuteTime": {
     "end_time": "2019-10-23T02:29:49.348505Z",
     "start_time": "2019-10-23T02:29:49.318069Z"
    },
    "collapsed": true
   },
   "outputs": [],
   "source": [
    "# encoding TARGET\n",
    "df_train['TARGET'] = df_train['TARGET'].astype('category')"
   ]
  },
  {
   "cell_type": "code",
   "execution_count": 8,
   "metadata": {
    "ExecuteTime": {
     "end_time": "2019-10-23T02:29:50.658473Z",
     "start_time": "2019-10-23T02:29:50.291612Z"
    },
    "collapsed": true
   },
   "outputs": [],
   "source": [
    "# split dataset\n",
    "X_train, X_test, y_train, y_test = ps.split_data(df_train,iv_features_train,'TARGET')"
   ]
  },
  {
   "cell_type": "code",
   "execution_count": 10,
   "metadata": {
    "ExecuteTime": {
     "end_time": "2019-10-23T02:32:54.975691Z",
     "start_time": "2019-10-23T02:31:13.928309Z"
    }
   },
   "outputs": [
    {
     "data": {
      "image/png": "[encoded data removed]",
      "text/plain": [
       "<Figure size 720x432 with 1 Axes>"
      ]
     },
     "metadata": {},
     "output_type": "display_data"
    },
    {
     "name": "stdout",
     "output_type": "stream",
     "text": [
      "AUC:  0.7902606391705415\n",
      "KS:  0.43512825704783487\n"
     ]
    },
    {
     "data": {
      "image/png": "[encoded data removed]",
      "text/plain": [
       "<Figure size 720x432 with 1 Axes>"
      ]
     },
     "metadata": {},
     "output_type": "display_data"
    },
    {
     "name": "stdout",
     "output_type": "stream",
     "text": [
      "AUC:  0.7348199182676491\n",
      "KS:  0.3508632769029974\n"
     ]
    }
   ],
   "source": [
    "from sklearn.ensemble import RandomForestClassifier\n",
    "\n",
    "# model training\n",
    "model = RandomForestClassifier(max_depth=9,n_estimators=100)\n",
    "model.fit(X_train, y_train)\n",
    "\n",
    "# output probability\n",
    "y_hat = model.predict_proba(X_train)[:,1]\n",
    "y_pred = model.predict_proba(X_test)[:,1]\n",
    "\n",
    "# evaluation\n",
    "ev.plot_ROC(y_train, y_hat, 'Train')\n",
    "ev.plot_ROC(y_test, y_pred, 'Test')"
   ]
  },
  {
   "cell_type": "code",
   "execution_count": null,
   "metadata": {
    "collapsed": true
   },
   "outputs": [],
   "source": []
  }
 ],
 "metadata": {
  "kernelspec": {
   "display_name": "Python 3",
   "language": "python",
   "name": "python3"
  },
  "language_info": {
   "codemirror_mode": {
    "name": "ipython",
    "version": 3
   },
   "file_extension": ".py",
   "mimetype": "text/x-python",
   "name": "python",
   "nbconvert_exporter": "python",
   "pygments_lexer": "ipython3",
   "version": "3.6.7"
  },
  "toc": {
   "base_numbering": 1,
   "nav_menu": {},
   "number_sections": true,
   "sideBar": false,
   "skip_h1_title": false,
   "title_cell": "Table of Contents",
   "title_sidebar": "Contents",
   "toc_cell": false,
   "toc_position": {
    "height": "398px",
    "left": "1232.99px",
    "top": "49.456px",
    "width": "164px"
   },
   "toc_section_display": true,
   "toc_window_display": true
  }
 },
 "nbformat": 4,
 "nbformat_minor": 2
}
