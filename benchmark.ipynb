{
 "cells": [
  {
   "cell_type": "code",
   "execution_count": null,
   "metadata": {
    "ExecuteTime": {
     "end_time": "2019-10-23T02:29:11.660380Z",
     "start_time": "2019-10-23T02:29:08.862942Z"
    },
    "collapsed": true
   },
   "outputs": [],
   "source": [
    "import warnings\n",
    "warnings.filterwarnings('ignore')\n",
    "import pandas as pd\n",
    "import numpy as np\n",
    "import matplotlib.pyplot as plt\n",
    "import tools.feature_selection as fs\n",
    "import tools.preprocessing as ps\n",
    "import tools.evaluations as ev"
   ]
  },
  {
   "cell_type": "markdown",
   "metadata": {},
   "source": [
    "## 读取数据"
   ]
  },
  {
   "cell_type": "code",
   "execution_count": 2,
   "metadata": {
    "ExecuteTime": {
     "end_time": "2019-10-23T02:29:19.751261Z",
     "start_time": "2019-10-23T02:29:13.577614Z"
    },
    "collapsed": true
   },
   "outputs": [],
   "source": [
    "df_train = pd.read_csv('../project/home-credit-default-risk/application_train.csv')"
   ]
  },
  {
   "cell_type": "markdown",
   "metadata": {},
   "source": [
    "## 数据处理"
   ]
  },
  {
   "cell_type": "code",
   "execution_count": 3,
   "metadata": {
    "ExecuteTime": {
     "end_time": "2019-10-23T02:29:23.946819Z",
     "start_time": "2019-10-23T02:29:22.909370Z"
    },
    "collapsed": true,
    "scrolled": false
   },
   "outputs": [],
   "source": [
    "# 变量分类\n",
    "cate_vars = []\n",
    "cont_vars = []\n",
    "for col in df_train.columns:\n",
    "    if col not in ['SK_ID_CURR','TARGET']:\n",
    "        if df_train[col].dtype in ['float64','int64'] and df_train[col].nunique() > 3:\n",
    "            cont_vars.append(col)\n",
    "        else:\n",
    "            cate_vars.append(col)"
   ]
  },
  {
   "cell_type": "code",
   "execution_count": 4,
   "metadata": {
    "ExecuteTime": {
     "end_time": "2019-10-23T02:29:46.511445Z",
     "start_time": "2019-10-23T02:29:24.404341Z"
    },
    "collapsed": true
   },
   "outputs": [],
   "source": [
    "# 编码类别变量\n",
    "df_train = ps.cate_enc(df_train, cate_vars)"
   ]
  },
  {
   "cell_type": "markdown",
   "metadata": {},
   "source": [
    "## 特征筛选"
   ]
  },
  {
   "cell_type": "code",
   "execution_count": null,
   "metadata": {
    "ExecuteTime": {
     "end_time": "2019-10-23T02:28:55.860516Z",
     "start_time": "2019-10-23T02:28:54.951192Z"
    },
    "collapsed": true
   },
   "outputs": [],
   "source": [
    "df_train_woe = df_train.fillna(-1)\n",
    "df_train_woe['target'] = df_train_woe['TARGET']\n",
    "df_train_woe.drop('TARGET',axis=1,inplace=True)"
   ]
  },
  {
   "cell_type": "code",
   "execution_count": null,
   "metadata": {
    "ExecuteTime": {
     "end_time": "2019-10-23T02:29:00.475857Z",
     "start_time": "2019-10-23T02:28:56.423185Z"
    }
   },
   "outputs": [],
   "source": [
    "df_iv = fs.cal_iv(df_train_woe,cate_vars,cont_vars,'target')"
   ]
  },
  {
   "cell_type": "code",
   "execution_count": null,
   "metadata": {
    "ExecuteTime": {
     "end_time": "2019-10-17T12:32:17.569572Z",
     "start_time": "2019-10-17T12:32:17.550625Z"
    },
    "collapsed": true,
    "scrolled": true
   },
   "outputs": [],
   "source": [
    "df_iv.to_excel('./features/df_train_iv.xlsx',index=False)"
   ]
  },
  {
   "cell_type": "code",
   "execution_count": 5,
   "metadata": {
    "ExecuteTime": {
     "end_time": "2019-10-23T02:29:46.570602Z",
     "start_time": "2019-10-23T02:29:46.513484Z"
    },
    "collapsed": true
   },
   "outputs": [],
   "source": [
    "df_iv = pd.read_excel('./features/df_train_iv.xlsx')\n",
    "iv_features_train = df_iv[df_iv['iv']>0.02]['var_name'].values"
   ]
  },
  {
   "cell_type": "markdown",
   "metadata": {},
   "source": [
    "## 建模"
   ]
  },
  {
   "cell_type": "code",
   "execution_count": 6,
   "metadata": {
    "ExecuteTime": {
     "end_time": "2019-10-23T02:29:48.780808Z",
     "start_time": "2019-10-23T02:29:48.432406Z"
    },
    "collapsed": true
   },
   "outputs": [],
   "source": [
    "# 根据选择的模型决定用不用填补缺失值\n",
    "df_train.fillna(-1,inplace=True)"
   ]
  },
  {
   "cell_type": "code",
   "execution_count": 7,
   "metadata": {
    "ExecuteTime": {
     "end_time": "2019-10-23T02:29:49.348505Z",
     "start_time": "2019-10-23T02:29:49.318069Z"
    },
    "collapsed": true
   },
   "outputs": [],
   "source": [
    "# 将TARGET编码为分类变量\n",
    "df_train['TARGET'] = df_train['TARGET'].astype('category')"
   ]
  },
  {
   "cell_type": "code",
   "execution_count": 8,
   "metadata": {
    "ExecuteTime": {
     "end_time": "2019-10-23T02:29:50.658473Z",
     "start_time": "2019-10-23T02:29:50.291612Z"
    },
    "collapsed": true
   },
   "outputs": [],
   "source": [
    "# 分割数据集\n",
    "X_train, X_test, y_train, y_test = ps.split_data(df_train,iv_features_train,'TARGET')"
   ]
  },
  {
   "cell_type": "code",
   "execution_count": null,
   "metadata": {
    "ExecuteTime": {
     "start_time": "2019-10-23T02:31:13.925Z"
    }
   },
   "outputs": [],
   "source": [
    "from sklearn.ensemble import RandomForestClassifier\n",
    "\n",
    "# 训练模型\n",
    "model = RandomForestClassifier(max_depth=9,n_estimators=100)\n",
    "model.fit(X_train, y_train)\n",
    "\n",
    "# 输出概率\n",
    "y_hat = model.predict_proba(X_train)[:,1]\n",
    "y_pred = model.predict_proba(X_test)[:,1]\n",
    "\n",
    "# 模型评价\n",
    "ev.plot_ROC(y_train, y_hat, 'Train')\n",
    "ev.plot_ROC(y_test, y_pred, 'Test')"
   ]
  },
  {
   "cell_type": "code",
   "execution_count": null,
   "metadata": {
    "collapsed": true
   },
   "outputs": [],
   "source": []
  }
 ],
 "metadata": {
  "kernelspec": {
   "display_name": "Python 3",
   "language": "python",
   "name": "python3"
  },
  "language_info": {
   "codemirror_mode": {
    "name": "ipython",
    "version": 3
   },
   "file_extension": ".py",
   "mimetype": "text/x-python",
   "name": "python",
   "nbconvert_exporter": "python",
   "pygments_lexer": "ipython3",
   "version": "3.6.7"
  },
  "toc": {
   "base_numbering": 1,
   "nav_menu": {},
   "number_sections": true,
   "sideBar": false,
   "skip_h1_title": false,
   "title_cell": "Table of Contents",
   "title_sidebar": "Contents",
   "toc_cell": false,
   "toc_position": {
    "height": "398px",
    "left": "1115px",
    "top": "49.3333px",
    "width": "165px"
   },
   "toc_section_display": true,
   "toc_window_display": true
  }
 },
 "nbformat": 4,
 "nbformat_minor": 2
}
