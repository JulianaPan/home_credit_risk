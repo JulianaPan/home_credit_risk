{
 "cells": [
  {
   "cell_type": "code",
   "execution_count": 13,
   "metadata": {
    "ExecuteTime": {
     "end_time": "2019-10-17T12:31:42.026591Z",
     "start_time": "2019-10-17T12:31:42.021575Z"
    }
   },
   "outputs": [],
   "source": [
    "import warnings\n",
    "warnings.filterwarnings('ignore')\n",
    "import pandas as pd\n",
    "import numpy as np\n",
    "import matplotlib.pyplot as plt\n",
    "import tools.feature_selection as fs\n",
    "import tools.preprocessing as ps\n",
    "import tools.evaluations as ev"
   ]
  },
  {
   "cell_type": "markdown",
   "metadata": {},
   "source": [
    "## 读取数据"
   ]
  },
  {
   "cell_type": "code",
   "execution_count": 2,
   "metadata": {
    "ExecuteTime": {
     "end_time": "2019-10-17T12:28:20.675449Z",
     "start_time": "2019-10-17T12:28:18.134251Z"
    },
    "collapsed": true
   },
   "outputs": [],
   "source": [
    "df_train = pd.read_csv('../project/home-credit-default-risk/application_train.csv')"
   ]
  },
  {
   "cell_type": "markdown",
   "metadata": {},
   "source": [
    "## 数据处理"
   ]
  },
  {
   "cell_type": "code",
   "execution_count": 3,
   "metadata": {
    "ExecuteTime": {
     "end_time": "2019-10-17T12:28:22.037811Z",
     "start_time": "2019-10-17T12:28:21.620676Z"
    },
    "scrolled": false
   },
   "outputs": [],
   "source": [
    "cate_vars = []\n",
    "cont_vars = []\n",
    "for col in df_train.columns:\n",
    "    if col not in ['SK_ID_CURR','TARGET']:\n",
    "        if df_train[col].dtype in ['float64','int64'] and df_train[col].nunique() > 3:\n",
    "            cont_vars.append(col)\n",
    "        else:\n",
    "            cate_vars.append(col)"
   ]
  },
  {
   "cell_type": "code",
   "execution_count": 4,
   "metadata": {
    "ExecuteTime": {
     "end_time": "2019-10-17T12:28:32.020431Z",
     "start_time": "2019-10-17T12:28:22.537769Z"
    },
    "collapsed": true
   },
   "outputs": [],
   "source": [
    "# 编码类别变量\n",
    "df_train = ps.cate_enc(df_train, cate_vars)"
   ]
  },
  {
   "cell_type": "markdown",
   "metadata": {},
   "source": [
    "## 特征筛选"
   ]
  },
  {
   "cell_type": "code",
   "execution_count": 49,
   "metadata": {
    "ExecuteTime": {
     "end_time": "2019-10-17T11:52:08.139323Z",
     "start_time": "2019-10-17T11:52:07.692488Z"
    }
   },
   "outputs": [],
   "source": [
    "df_train_woe = df_train.fillna(-1)\n",
    "df_train_woe['target'] = df_train_woe['TARGET']\n",
    "df_train_woe.drop('TARGET',axis=1,inplace=True)"
   ]
  },
  {
   "cell_type": "code",
   "execution_count": 50,
   "metadata": {
    "ExecuteTime": {
     "end_time": "2019-10-17T12:03:28.851130Z",
     "start_time": "2019-10-17T11:52:11.427278Z"
    },
    "collapsed": true
   },
   "outputs": [
    {
     "name": "stdout",
     "output_type": "stream",
     "text": [
      "--------process discrete variable:NAME_CONTRACT_TYPE--------\n"
     ]
    },
    {
     "name": "stderr",
     "output_type": "stream",
     "text": [
      "C:\\Users\\John Zheng\\Anaconda3\\lib\\site-packages\\woe\\feature_process.py:414: SettingWithCopyWarning: \n",
      "A value is trying to be set on a copy of a slice from a DataFrame.\n",
      "Try using .loc[row_indexer,col_indexer] = value instead\n",
      "\n",
      "See the caveats in the documentation: http://pandas.pydata.org/pandas-docs/stable/user_guide/indexing.html#returning-a-view-versus-a-copy\n",
      "  df[var] = cpvar\n"
     ]
    },
    {
     "name": "stdout",
     "output_type": "stream",
     "text": [
      "-----------process discrete variable:CODE_GENDER------------\n",
      "-----------process discrete variable:FLAG_OWN_CAR-----------\n",
      "---------process discrete variable:FLAG_OWN_REALTY----------\n",
      "---------process discrete variable:NAME_TYPE_SUITE----------\n",
      "---------process discrete variable:NAME_INCOME_TYPE---------\n",
      "-------process discrete variable:NAME_EDUCATION_TYPE--------\n",
      "--------process discrete variable:NAME_FAMILY_STATUS--------\n",
      "--------process discrete variable:NAME_HOUSING_TYPE---------\n",
      "------------process discrete variable:FLAG_MOBIL------------\n",
      "----------process discrete variable:FLAG_EMP_PHONE----------\n",
      "---------process discrete variable:FLAG_WORK_PHONE----------\n",
      "---------process discrete variable:FLAG_CONT_MOBILE---------\n",
      "------------process discrete variable:FLAG_PHONE------------\n",
      "------------process discrete variable:FLAG_EMAIL------------\n",
      "---------process discrete variable:OCCUPATION_TYPE----------\n",
      "-------process discrete variable:REGION_RATING_CLIENT-------\n",
      "---process discrete variable:REGION_RATING_CLIENT_W_CITY----\n",
      "----process discrete variable:WEEKDAY_APPR_PROCESS_START----\n",
      "----process discrete variable:REG_REGION_NOT_LIVE_REGION----\n",
      "----process discrete variable:REG_REGION_NOT_WORK_REGION----\n",
      "---process discrete variable:LIVE_REGION_NOT_WORK_REGION----\n",
      "------process discrete variable:REG_CITY_NOT_LIVE_CITY------\n",
      "------process discrete variable:REG_CITY_NOT_WORK_CITY------\n",
      "-----process discrete variable:LIVE_CITY_NOT_WORK_CITY------\n",
      "--------process discrete variable:ORGANIZATION_TYPE---------\n",
      "--------process discrete variable:FONDKAPREMONT_MODE--------\n",
      "----------process discrete variable:HOUSETYPE_MODE----------\n",
      "--------process discrete variable:WALLSMATERIAL_MODE--------\n",
      "-------process discrete variable:EMERGENCYSTATE_MODE--------\n",
      "---------process discrete variable:FLAG_DOCUMENT_2----------\n",
      "---------process discrete variable:FLAG_DOCUMENT_3----------\n",
      "---------process discrete variable:FLAG_DOCUMENT_4----------\n",
      "---------process discrete variable:FLAG_DOCUMENT_5----------\n",
      "---------process discrete variable:FLAG_DOCUMENT_6----------\n",
      "---------process discrete variable:FLAG_DOCUMENT_7----------\n",
      "---------process discrete variable:FLAG_DOCUMENT_8----------\n",
      "---------process discrete variable:FLAG_DOCUMENT_9----------\n",
      "---------process discrete variable:FLAG_DOCUMENT_10---------\n",
      "---------process discrete variable:FLAG_DOCUMENT_11---------\n",
      "---------process discrete variable:FLAG_DOCUMENT_12---------\n",
      "---------process discrete variable:FLAG_DOCUMENT_13---------\n",
      "---------process discrete variable:FLAG_DOCUMENT_14---------\n",
      "---------process discrete variable:FLAG_DOCUMENT_15---------\n",
      "---------process discrete variable:FLAG_DOCUMENT_16---------\n",
      "---------process discrete variable:FLAG_DOCUMENT_17---------\n",
      "---------process discrete variable:FLAG_DOCUMENT_18---------\n",
      "---------process discrete variable:FLAG_DOCUMENT_19---------\n",
      "---------process discrete variable:FLAG_DOCUMENT_20---------\n",
      "---------process discrete variable:FLAG_DOCUMENT_21---------\n",
      "----------process continuous variable:CNT_CHILDREN----------\n",
      "--------process continuous variable:AMT_INCOME_TOTAL--------\n",
      "-----------process continuous variable:AMT_CREDIT-----------\n",
      "----------process continuous variable:AMT_ANNUITY-----------\n",
      "--------process continuous variable:AMT_GOODS_PRICE---------\n",
      "---process continuous variable:REGION_POPULATION_RELATIVE---\n",
      "-----------process continuous variable:DAYS_BIRTH-----------\n",
      "---------process continuous variable:DAYS_EMPLOYED----------\n",
      "-------process continuous variable:DAYS_REGISTRATION--------\n",
      "--------process continuous variable:DAYS_ID_PUBLISH---------\n",
      "----------process continuous variable:OWN_CAR_AGE-----------\n",
      "--------process continuous variable:CNT_FAM_MEMBERS---------\n",
      "----process continuous variable:HOUR_APPR_PROCESS_START-----\n",
      "----------process continuous variable:EXT_SOURCE_1----------\n",
      "----------process continuous variable:EXT_SOURCE_2----------\n",
      "----------process continuous variable:EXT_SOURCE_3----------\n",
      "---------process continuous variable:APARTMENTS_AVG---------\n",
      "--------process continuous variable:BASEMENTAREA_AVG--------\n",
      "--process continuous variable:YEARS_BEGINEXPLUATATION_AVG---\n",
      "--------process continuous variable:YEARS_BUILD_AVG---------\n",
      "---------process continuous variable:COMMONAREA_AVG---------\n",
      "---------process continuous variable:ELEVATORS_AVG----------\n",
      "---------process continuous variable:ENTRANCES_AVG----------\n",
      "---------process continuous variable:FLOORSMAX_AVG----------\n",
      "---------process continuous variable:FLOORSMIN_AVG----------\n",
      "----------process continuous variable:LANDAREA_AVG----------\n",
      "------process continuous variable:LIVINGAPARTMENTS_AVG------\n",
      "---------process continuous variable:LIVINGAREA_AVG---------\n",
      "----process continuous variable:NONLIVINGAPARTMENTS_AVG-----\n",
      "-------process continuous variable:NONLIVINGAREA_AVG--------\n",
      "--------process continuous variable:APARTMENTS_MODE---------\n",
      "-------process continuous variable:BASEMENTAREA_MODE--------\n",
      "--process continuous variable:YEARS_BEGINEXPLUATATION_MODE--\n",
      "--------process continuous variable:YEARS_BUILD_MODE--------\n",
      "--------process continuous variable:COMMONAREA_MODE---------\n",
      "---------process continuous variable:ELEVATORS_MODE---------\n",
      "---------process continuous variable:ENTRANCES_MODE---------\n",
      "---------process continuous variable:FLOORSMAX_MODE---------\n",
      "---------process continuous variable:FLOORSMIN_MODE---------\n",
      "---------process continuous variable:LANDAREA_MODE----------\n",
      "-----process continuous variable:LIVINGAPARTMENTS_MODE------\n",
      "--------process continuous variable:LIVINGAREA_MODE---------\n",
      "----process continuous variable:NONLIVINGAPARTMENTS_MODE----\n",
      "-------process continuous variable:NONLIVINGAREA_MODE-------\n",
      "--------process continuous variable:APARTMENTS_MEDI---------\n",
      "-------process continuous variable:BASEMENTAREA_MEDI--------\n",
      "--process continuous variable:YEARS_BEGINEXPLUATATION_MEDI--\n",
      "--------process continuous variable:YEARS_BUILD_MEDI--------\n",
      "--------process continuous variable:COMMONAREA_MEDI---------\n",
      "---------process continuous variable:ELEVATORS_MEDI---------\n",
      "---------process continuous variable:ENTRANCES_MEDI---------\n",
      "---------process continuous variable:FLOORSMAX_MEDI---------\n",
      "---------process continuous variable:FLOORSMIN_MEDI---------\n",
      "---------process continuous variable:LANDAREA_MEDI----------\n",
      "-----process continuous variable:LIVINGAPARTMENTS_MEDI------\n",
      "--------process continuous variable:LIVINGAREA_MEDI---------\n",
      "----process continuous variable:NONLIVINGAPARTMENTS_MEDI----\n",
      "-------process continuous variable:NONLIVINGAREA_MEDI-------\n",
      "---------process continuous variable:TOTALAREA_MODE---------\n",
      "----process continuous variable:OBS_30_CNT_SOCIAL_CIRCLE----\n",
      "----process continuous variable:DEF_30_CNT_SOCIAL_CIRCLE----\n",
      "----process continuous variable:OBS_60_CNT_SOCIAL_CIRCLE----\n",
      "----process continuous variable:DEF_60_CNT_SOCIAL_CIRCLE----\n",
      "-----process continuous variable:DAYS_LAST_PHONE_CHANGE-----\n",
      "---process continuous variable:AMT_REQ_CREDIT_BUREAU_HOUR---\n",
      "---process continuous variable:AMT_REQ_CREDIT_BUREAU_DAY----\n",
      "---process continuous variable:AMT_REQ_CREDIT_BUREAU_WEEK---\n",
      "---process continuous variable:AMT_REQ_CREDIT_BUREAU_MON----\n",
      "---process continuous variable:AMT_REQ_CREDIT_BUREAU_QRT----\n",
      "---process continuous variable:AMT_REQ_CREDIT_BUREAU_YEAR---\n",
      "NAME_CONTRACT_TYPE\n",
      "CODE_GENDER\n",
      "FLAG_OWN_CAR\n",
      "FLAG_OWN_REALTY\n",
      "NAME_TYPE_SUITE\n",
      "NAME_INCOME_TYPE\n",
      "NAME_EDUCATION_TYPE\n",
      "NAME_FAMILY_STATUS\n",
      "NAME_HOUSING_TYPE\n",
      "FLAG_MOBIL\n",
      "FLAG_EMP_PHONE\n",
      "FLAG_WORK_PHONE\n",
      "FLAG_CONT_MOBILE\n",
      "FLAG_PHONE\n",
      "FLAG_EMAIL\n",
      "OCCUPATION_TYPE\n",
      "REGION_RATING_CLIENT\n",
      "REGION_RATING_CLIENT_W_CITY\n",
      "WEEKDAY_APPR_PROCESS_START\n",
      "REG_REGION_NOT_LIVE_REGION\n",
      "REG_REGION_NOT_WORK_REGION\n",
      "LIVE_REGION_NOT_WORK_REGION\n",
      "REG_CITY_NOT_LIVE_CITY\n",
      "REG_CITY_NOT_WORK_CITY\n",
      "LIVE_CITY_NOT_WORK_CITY\n",
      "ORGANIZATION_TYPE\n",
      "FONDKAPREMONT_MODE\n",
      "HOUSETYPE_MODE\n",
      "WALLSMATERIAL_MODE\n",
      "EMERGENCYSTATE_MODE\n",
      "FLAG_DOCUMENT_2\n",
      "FLAG_DOCUMENT_3\n",
      "FLAG_DOCUMENT_4\n",
      "FLAG_DOCUMENT_5\n",
      "FLAG_DOCUMENT_6\n",
      "FLAG_DOCUMENT_7\n",
      "FLAG_DOCUMENT_8\n",
      "FLAG_DOCUMENT_9\n",
      "FLAG_DOCUMENT_10\n",
      "FLAG_DOCUMENT_11\n",
      "FLAG_DOCUMENT_12\n",
      "FLAG_DOCUMENT_13\n",
      "FLAG_DOCUMENT_14\n",
      "FLAG_DOCUMENT_15\n",
      "FLAG_DOCUMENT_16\n",
      "FLAG_DOCUMENT_17\n",
      "FLAG_DOCUMENT_18\n",
      "FLAG_DOCUMENT_19\n",
      "FLAG_DOCUMENT_20\n",
      "FLAG_DOCUMENT_21\n",
      "CNT_CHILDREN\n",
      "AMT_INCOME_TOTAL\n",
      "AMT_CREDIT\n",
      "AMT_ANNUITY\n",
      "AMT_GOODS_PRICE\n",
      "REGION_POPULATION_RELATIVE\n",
      "DAYS_BIRTH\n",
      "DAYS_EMPLOYED\n",
      "DAYS_REGISTRATION\n",
      "DAYS_ID_PUBLISH\n",
      "OWN_CAR_AGE\n",
      "CNT_FAM_MEMBERS\n",
      "HOUR_APPR_PROCESS_START\n",
      "EXT_SOURCE_1\n",
      "EXT_SOURCE_2\n",
      "EXT_SOURCE_3\n",
      "APARTMENTS_AVG\n",
      "BASEMENTAREA_AVG\n",
      "YEARS_BEGINEXPLUATATION_AVG\n",
      "YEARS_BUILD_AVG\n",
      "COMMONAREA_AVG\n",
      "ELEVATORS_AVG\n",
      "ENTRANCES_AVG\n",
      "FLOORSMAX_AVG\n",
      "FLOORSMIN_AVG\n",
      "LANDAREA_AVG\n",
      "LIVINGAPARTMENTS_AVG\n",
      "LIVINGAREA_AVG\n",
      "NONLIVINGAPARTMENTS_AVG\n",
      "NONLIVINGAREA_AVG\n",
      "APARTMENTS_MODE\n",
      "BASEMENTAREA_MODE\n",
      "YEARS_BEGINEXPLUATATION_MODE\n",
      "YEARS_BUILD_MODE\n",
      "COMMONAREA_MODE\n",
      "ELEVATORS_MODE\n",
      "ENTRANCES_MODE\n",
      "FLOORSMAX_MODE\n",
      "FLOORSMIN_MODE\n",
      "LANDAREA_MODE\n",
      "LIVINGAPARTMENTS_MODE\n",
      "LIVINGAREA_MODE\n",
      "NONLIVINGAPARTMENTS_MODE\n",
      "NONLIVINGAREA_MODE\n",
      "APARTMENTS_MEDI\n",
      "BASEMENTAREA_MEDI\n",
      "YEARS_BEGINEXPLUATATION_MEDI\n",
      "YEARS_BUILD_MEDI\n",
      "COMMONAREA_MEDI\n",
      "ELEVATORS_MEDI\n",
      "ENTRANCES_MEDI\n",
      "FLOORSMAX_MEDI\n",
      "FLOORSMIN_MEDI\n",
      "LANDAREA_MEDI\n",
      "LIVINGAPARTMENTS_MEDI\n",
      "LIVINGAREA_MEDI\n",
      "NONLIVINGAPARTMENTS_MEDI\n",
      "NONLIVINGAREA_MEDI\n",
      "TOTALAREA_MODE\n",
      "OBS_30_CNT_SOCIAL_CIRCLE\n",
      "DEF_30_CNT_SOCIAL_CIRCLE\n",
      "OBS_60_CNT_SOCIAL_CIRCLE\n",
      "DEF_60_CNT_SOCIAL_CIRCLE\n",
      "DAYS_LAST_PHONE_CHANGE\n",
      "AMT_REQ_CREDIT_BUREAU_HOUR\n",
      "AMT_REQ_CREDIT_BUREAU_DAY\n",
      "AMT_REQ_CREDIT_BUREAU_WEEK\n",
      "AMT_REQ_CREDIT_BUREAU_MON\n",
      "AMT_REQ_CREDIT_BUREAU_QRT\n",
      "AMT_REQ_CREDIT_BUREAU_YEAR\n"
     ]
    }
   ],
   "source": [
    "df_iv = fs.cal_iv(df_train_woe,cate_vars,cont_vars,'target')"
   ]
  },
  {
   "cell_type": "code",
   "execution_count": 52,
   "metadata": {
    "ExecuteTime": {
     "end_time": "2019-10-17T12:04:34.686236Z",
     "start_time": "2019-10-17T12:04:34.084363Z"
    },
    "scrolled": false
   },
   "outputs": [
    {
     "name": "stderr",
     "output_type": "stream",
     "text": [
      "C:\\Users\\John Zheng\\Anaconda3\\lib\\site-packages\\pandas\\compat\\_optional.py:106: UserWarning: Pandas requires version '0.9.8' or newer of 'xlsxwriter' (version '0.9.6' currently installed).\n",
      "  warnings.warn(msg, UserWarning)\n"
     ]
    }
   ],
   "source": [
    "df_iv.to_excel('./features/df_train_iv.xlsx',index=False)"
   ]
  },
  {
   "cell_type": "code",
   "execution_count": 5,
   "metadata": {
    "ExecuteTime": {
     "end_time": "2019-10-17T12:28:36.553797Z",
     "start_time": "2019-10-17T12:28:36.518891Z"
    }
   },
   "outputs": [],
   "source": [
    "df_iv = pd.read_excel('./features/df_train_iv.xlsx')\n",
    "iv_features_train = df_iv[df_iv['iv']>0.02]['var_name'].values"
   ]
  },
  {
   "cell_type": "markdown",
   "metadata": {},
   "source": [
    "## 建模"
   ]
  },
  {
   "cell_type": "code",
   "execution_count": 6,
   "metadata": {
    "ExecuteTime": {
     "end_time": "2019-10-17T12:28:40.399798Z",
     "start_time": "2019-10-17T12:28:40.229951Z"
    }
   },
   "outputs": [],
   "source": [
    "# 根据选择的模型决定用不用填补缺失值\n",
    "df_train.fillna(-1,inplace=True)"
   ]
  },
  {
   "cell_type": "code",
   "execution_count": 7,
   "metadata": {
    "ExecuteTime": {
     "end_time": "2019-10-17T12:28:41.437115Z",
     "start_time": "2019-10-17T12:28:41.417170Z"
    },
    "collapsed": true
   },
   "outputs": [],
   "source": [
    "# 将TARGET编码为分类变量\n",
    "df_train['TARGET'] = df_train['TARGET'].astype('category')"
   ]
  },
  {
   "cell_type": "code",
   "execution_count": 8,
   "metadata": {
    "ExecuteTime": {
     "end_time": "2019-10-17T12:28:42.762496Z",
     "start_time": "2019-10-17T12:28:42.544082Z"
    }
   },
   "outputs": [],
   "source": [
    "# 分割数据集\n",
    "X_train, X_test, y_train, y_test = ps.split_data(df_train,iv_features_train,'TARGET')"
   ]
  },
  {
   "cell_type": "code",
   "execution_count": 11,
   "metadata": {
    "ExecuteTime": {
     "end_time": "2019-10-17T12:30:37.180068Z",
     "start_time": "2019-10-17T12:29:08.867235Z"
    }
   },
   "outputs": [
    {
     "data": {
      "image/png": "[encoded data removed]",
      "text/plain": [
       "<Figure size 720x432 with 1 Axes>"
      ]
     },
     "metadata": {},
     "output_type": "display_data"
    },
    {
     "name": "stdout",
     "output_type": "stream",
     "text": [
      "AUC:  0.7901637840475843\n",
      "KS:  0.43512513151916704\n"
     ]
    },
    {
     "data": {
      "image/png": "[encoded data removed]",
      "text/plain": [
       "<Figure size 720x432 with 1 Axes>"
      ]
     },
     "metadata": {},
     "output_type": "display_data"
    },
    {
     "name": "stdout",
     "output_type": "stream",
     "text": [
      "AUC:  0.7352715204010426\n",
      "KS:  0.3509816144763585\n"
     ]
    }
   ],
   "source": [
    "from sklearn.ensemble import RandomForestClassifier\n",
    "\n",
    "# 训练模型\n",
    "model = RandomForestClassifier(max_depth=9,n_estimators=200)\n",
    "model.fit(X_train, y_train)\n",
    "\n",
    "# 输出概率\n",
    "y_hat = model.predict_proba(X_train)[:,1]\n",
    "y_pred = model.predict_proba(X_test)[:,1]\n",
    "\n",
    "# 模型评价\n",
    "ev.plot_ROC(y_train, y_hat, 'Train')\n",
    "ev.plot_ROC(y_test, y_pred, 'Test')"
   ]
  },
  {
   "cell_type": "code",
   "execution_count": null,
   "metadata": {
    "collapsed": true
   },
   "outputs": [],
   "source": []
  }
 ],
 "metadata": {
  "kernelspec": {
   "display_name": "Python 3",
   "language": "python",
   "name": "python3"
  },
  "language_info": {
   "codemirror_mode": {
    "name": "ipython",
    "version": 3
   },
   "file_extension": ".py",
   "mimetype": "text/x-python",
   "name": "python",
   "nbconvert_exporter": "python",
   "pygments_lexer": "ipython3",
   "version": "3.6.7"
  },
  "toc": {
   "base_numbering": 1,
   "nav_menu": {},
   "number_sections": true,
   "sideBar": false,
   "skip_h1_title": false,
   "title_cell": "Table of Contents",
   "title_sidebar": "Contents",
   "toc_cell": false,
   "toc_position": {
    "height": "398px",
    "left": "1115px",
    "top": "49.3333px",
    "width": "165px"
   },
   "toc_section_display": true,
   "toc_window_display": true
  }
 },
 "nbformat": 4,
 "nbformat_minor": 2
}
