{
 "cells": [
  {
   "cell_type": "code",
   "execution_count": 1,
   "metadata": {
    "ExecuteTime": {
     "end_time": "2019-10-29T05:56:37.347239Z",
     "start_time": "2019-10-29T05:56:22.312896Z"
    },
    "collapsed": true
   },
   "outputs": [],
   "source": [
    "import warnings\n",
    "warnings.filterwarnings('ignore')\n",
    "\n",
    "import pandas as pd\n",
    "import numpy as np\n",
    "import matplotlib.pyplot as plt\n",
    "\n",
    "import MySQLdb\n",
    "from sqlalchemy import create_engine\n",
    "\n",
    "import tools.feature_selection as fs\n",
    "import tools.preprocessing as ps\n",
    "import tools.evaluations as ev"
   ]
  },
  {
   "cell_type": "markdown",
   "metadata": {},
   "source": [
    "## Data Import"
   ]
  },
  {
   "cell_type": "markdown",
   "metadata": {},
   "source": [
    "### Import data from Database"
   ]
  },
  {
   "cell_type": "code",
   "execution_count": 4,
   "metadata": {
    "ExecuteTime": {
     "end_time": "2019-10-29T05:57:01.296934Z",
     "start_time": "2019-10-29T05:57:01.289928Z"
    },
    "collapsed": true
   },
   "outputs": [],
   "source": [
    "host = 'db1.ceobypqfxmry.us-east-2.rds.amazonaws.com'\n",
    "port = '3306'\n",
    "db = 'db'\n",
    "user = 'admin'\n",
    "password = 'msbd5001'\n",
    "tb = 'bur_attr_target'\n",
    "engine = create_engine(str(r\"mysql+mysqldb://%s:\" + '%s' + \"@%s/%s\") % (user, password, host, db))"
   ]
  },
  {
   "cell_type": "code",
   "execution_count": 5,
   "metadata": {
    "ExecuteTime": {
     "end_time": "2019-10-29T06:01:09.046129Z",
     "start_time": "2019-10-29T05:57:03.518442Z"
    }
   },
   "outputs": [
    {
     "data": {
      "text/html": [
       "<div>\n",
       "<style scoped>\n",
       "    .dataframe tbody tr th:only-of-type {\n",
       "        vertical-align: middle;\n",
       "    }\n",
       "\n",
       "    .dataframe tbody tr th {\n",
       "        vertical-align: top;\n",
       "    }\n",
       "\n",
       "    .dataframe thead th {\n",
       "        text-align: right;\n",
       "    }\n",
       "</style>\n",
       "<table border=\"1\" class=\"dataframe\">\n",
       "  <thead>\n",
       "    <tr style=\"text-align: right;\">\n",
       "      <th></th>\n",
       "      <th>SK_ID_CURR</th>\n",
       "      <th>SK_ID_CURR1</th>\n",
       "      <th>CREDIT_CURRENCY_currency_1</th>\n",
       "      <th>CREDIT_CURRENCY_currency_2</th>\n",
       "      <th>CREDIT_CURRENCY_currency_3</th>\n",
       "      <th>CREDIT_CURRENCY_currency_4</th>\n",
       "      <th>CREDIT_ACTIVE_Closed</th>\n",
       "      <th>CREDIT_ACTIVE_Active</th>\n",
       "      <th>CREDIT_ACTIVE_Sold</th>\n",
       "      <th>CREDIT_ACTIVE_Bad_debt</th>\n",
       "      <th>...</th>\n",
       "      <th>bureau_AMT_CREDIT_SUM_OVERDUE_std</th>\n",
       "      <th>bureau_DAYS_CREDIT_UPDATE_min</th>\n",
       "      <th>bureau_DAYS_CREDIT_UPDATE_max</th>\n",
       "      <th>bureau_DAYS_CREDIT_UPDATE_avg</th>\n",
       "      <th>bureau_DAYS_CREDIT_UPDATE_std</th>\n",
       "      <th>bureau_AMT_ANNUITY_min</th>\n",
       "      <th>bureau_AMT_ANNUITY_max</th>\n",
       "      <th>bureau_AMT_ANNUITY_avg</th>\n",
       "      <th>bureau_AMT_ANNUITY_std</th>\n",
       "      <th>TARGET</th>\n",
       "    </tr>\n",
       "  </thead>\n",
       "  <tbody>\n",
       "    <tr>\n",
       "      <td>0</td>\n",
       "      <td>100002</td>\n",
       "      <td>100002.0</td>\n",
       "      <td>1.0</td>\n",
       "      <td>0.0</td>\n",
       "      <td>0.0</td>\n",
       "      <td>0.0</td>\n",
       "      <td>0.75</td>\n",
       "      <td>0.25</td>\n",
       "      <td>0.0</td>\n",
       "      <td>0.0</td>\n",
       "      <td>...</td>\n",
       "      <td>0.0</td>\n",
       "      <td>-1185.0</td>\n",
       "      <td>-7.0</td>\n",
       "      <td>-499.875</td>\n",
       "      <td>485.033359</td>\n",
       "      <td>0.0</td>\n",
       "      <td>0.0</td>\n",
       "      <td>0.0</td>\n",
       "      <td>0.0</td>\n",
       "      <td>1</td>\n",
       "    </tr>\n",
       "    <tr>\n",
       "      <td>1</td>\n",
       "      <td>100003</td>\n",
       "      <td>100003.0</td>\n",
       "      <td>1.0</td>\n",
       "      <td>0.0</td>\n",
       "      <td>0.0</td>\n",
       "      <td>0.0</td>\n",
       "      <td>0.75</td>\n",
       "      <td>0.25</td>\n",
       "      <td>0.0</td>\n",
       "      <td>0.0</td>\n",
       "      <td>...</td>\n",
       "      <td>0.0</td>\n",
       "      <td>-2131.0</td>\n",
       "      <td>-43.0</td>\n",
       "      <td>-816.000</td>\n",
       "      <td>786.397800</td>\n",
       "      <td>NaN</td>\n",
       "      <td>NaN</td>\n",
       "      <td>NaN</td>\n",
       "      <td>NaN</td>\n",
       "      <td>0</td>\n",
       "    </tr>\n",
       "    <tr>\n",
       "      <td>2</td>\n",
       "      <td>100004</td>\n",
       "      <td>100004.0</td>\n",
       "      <td>1.0</td>\n",
       "      <td>0.0</td>\n",
       "      <td>0.0</td>\n",
       "      <td>0.0</td>\n",
       "      <td>1.00</td>\n",
       "      <td>0.00</td>\n",
       "      <td>0.0</td>\n",
       "      <td>0.0</td>\n",
       "      <td>...</td>\n",
       "      <td>0.0</td>\n",
       "      <td>-682.0</td>\n",
       "      <td>-382.0</td>\n",
       "      <td>-532.000</td>\n",
       "      <td>150.000000</td>\n",
       "      <td>NaN</td>\n",
       "      <td>NaN</td>\n",
       "      <td>NaN</td>\n",
       "      <td>NaN</td>\n",
       "      <td>0</td>\n",
       "    </tr>\n",
       "    <tr>\n",
       "      <td>3</td>\n",
       "      <td>100006</td>\n",
       "      <td>NaN</td>\n",
       "      <td>NaN</td>\n",
       "      <td>NaN</td>\n",
       "      <td>NaN</td>\n",
       "      <td>NaN</td>\n",
       "      <td>NaN</td>\n",
       "      <td>NaN</td>\n",
       "      <td>NaN</td>\n",
       "      <td>NaN</td>\n",
       "      <td>...</td>\n",
       "      <td>NaN</td>\n",
       "      <td>NaN</td>\n",
       "      <td>NaN</td>\n",
       "      <td>NaN</td>\n",
       "      <td>NaN</td>\n",
       "      <td>NaN</td>\n",
       "      <td>NaN</td>\n",
       "      <td>NaN</td>\n",
       "      <td>NaN</td>\n",
       "      <td>0</td>\n",
       "    </tr>\n",
       "    <tr>\n",
       "      <td>4</td>\n",
       "      <td>100007</td>\n",
       "      <td>100007.0</td>\n",
       "      <td>1.0</td>\n",
       "      <td>0.0</td>\n",
       "      <td>0.0</td>\n",
       "      <td>0.0</td>\n",
       "      <td>1.00</td>\n",
       "      <td>0.00</td>\n",
       "      <td>0.0</td>\n",
       "      <td>0.0</td>\n",
       "      <td>...</td>\n",
       "      <td>0.0</td>\n",
       "      <td>-783.0</td>\n",
       "      <td>-783.0</td>\n",
       "      <td>-783.000</td>\n",
       "      <td>0.000000</td>\n",
       "      <td>NaN</td>\n",
       "      <td>NaN</td>\n",
       "      <td>NaN</td>\n",
       "      <td>NaN</td>\n",
       "      <td>0</td>\n",
       "    </tr>\n",
       "  </tbody>\n",
       "</table>\n",
       "<p>5 rows × 78 columns</p>\n",
       "</div>"
      ],
      "text/plain": [
       "   SK_ID_CURR  SK_ID_CURR1  CREDIT_CURRENCY_currency_1  \\\n",
       "0      100002     100002.0                         1.0   \n",
       "1      100003     100003.0                         1.0   \n",
       "2      100004     100004.0                         1.0   \n",
       "3      100006          NaN                         NaN   \n",
       "4      100007     100007.0                         1.0   \n",
       "\n",
       "   CREDIT_CURRENCY_currency_2  CREDIT_CURRENCY_currency_3  \\\n",
       "0                         0.0                         0.0   \n",
       "1                         0.0                         0.0   \n",
       "2                         0.0                         0.0   \n",
       "3                         NaN                         NaN   \n",
       "4                         0.0                         0.0   \n",
       "\n",
       "   CREDIT_CURRENCY_currency_4  CREDIT_ACTIVE_Closed  CREDIT_ACTIVE_Active  \\\n",
       "0                         0.0                  0.75                  0.25   \n",
       "1                         0.0                  0.75                  0.25   \n",
       "2                         0.0                  1.00                  0.00   \n",
       "3                         NaN                   NaN                   NaN   \n",
       "4                         0.0                  1.00                  0.00   \n",
       "\n",
       "   CREDIT_ACTIVE_Sold  CREDIT_ACTIVE_Bad_debt  ...  \\\n",
       "0                 0.0                     0.0  ...   \n",
       "1                 0.0                     0.0  ...   \n",
       "2                 0.0                     0.0  ...   \n",
       "3                 NaN                     NaN  ...   \n",
       "4                 0.0                     0.0  ...   \n",
       "\n",
       "   bureau_AMT_CREDIT_SUM_OVERDUE_std  bureau_DAYS_CREDIT_UPDATE_min  \\\n",
       "0                                0.0                        -1185.0   \n",
       "1                                0.0                        -2131.0   \n",
       "2                                0.0                         -682.0   \n",
       "3                                NaN                            NaN   \n",
       "4                                0.0                         -783.0   \n",
       "\n",
       "   bureau_DAYS_CREDIT_UPDATE_max  bureau_DAYS_CREDIT_UPDATE_avg  \\\n",
       "0                           -7.0                       -499.875   \n",
       "1                          -43.0                       -816.000   \n",
       "2                         -382.0                       -532.000   \n",
       "3                            NaN                            NaN   \n",
       "4                         -783.0                       -783.000   \n",
       "\n",
       "   bureau_DAYS_CREDIT_UPDATE_std  bureau_AMT_ANNUITY_min  \\\n",
       "0                     485.033359                     0.0   \n",
       "1                     786.397800                     NaN   \n",
       "2                     150.000000                     NaN   \n",
       "3                            NaN                     NaN   \n",
       "4                       0.000000                     NaN   \n",
       "\n",
       "   bureau_AMT_ANNUITY_max  bureau_AMT_ANNUITY_avg  bureau_AMT_ANNUITY_std  \\\n",
       "0                     0.0                     0.0                     0.0   \n",
       "1                     NaN                     NaN                     NaN   \n",
       "2                     NaN                     NaN                     NaN   \n",
       "3                     NaN                     NaN                     NaN   \n",
       "4                     NaN                     NaN                     NaN   \n",
       "\n",
       "   TARGET  \n",
       "0       1  \n",
       "1       0  \n",
       "2       0  \n",
       "3       0  \n",
       "4       0  \n",
       "\n",
       "[5 rows x 78 columns]"
      ]
     },
     "execution_count": 5,
     "metadata": {},
     "output_type": "execute_result"
    }
   ],
   "source": [
    "df_train = pd.read_sql_table(tb, engine)\n",
    "df_train.head()"
   ]
  },
  {
   "cell_type": "code",
   "execution_count": 6,
   "metadata": {
    "ExecuteTime": {
     "end_time": "2019-10-29T06:02:19.226476Z",
     "start_time": "2019-10-29T06:01:35.614824Z"
    },
    "collapsed": true
   },
   "outputs": [],
   "source": [
    "# save data as csv file\n",
    "df_train.to_csv('./data/bur_attr_target.csv', index=False)"
   ]
  },
  {
   "cell_type": "markdown",
   "metadata": {},
   "source": [
    "### Import data from csv file"
   ]
  },
  {
   "cell_type": "code",
   "execution_count": 2,
   "metadata": {
    "ExecuteTime": {
     "end_time": "2019-10-29T05:07:15.453079Z",
     "start_time": "2019-10-29T05:07:09.173001Z"
    },
    "collapsed": true
   },
   "outputs": [],
   "source": [
    "#f_train = pd.read_csv('./data/pa_attr.csv')\n",
    "df_train = pd.read_csv(r'E:\\zgr\\HKUST\\MSBD5001\\project\\home-credit-default-risk\\application_train.csv')"
   ]
  },
  {
   "cell_type": "markdown",
   "metadata": {},
   "source": [
    "## Data Profiling"
   ]
  },
  {
   "cell_type": "code",
   "execution_count": 9,
   "metadata": {
    "ExecuteTime": {
     "end_time": "2019-10-26T04:00:57.865923Z",
     "start_time": "2019-10-26T03:59:47.953917Z"
    },
    "collapsed": true
   },
   "outputs": [],
   "source": [
    "import pandas_profiling\n",
    "profile = pandas_profiling.ProfileReport(df_train, check_correlation=False)\n",
    "profile.to_file('./data_profile/pa_attr.html')"
   ]
  },
  {
   "cell_type": "markdown",
   "metadata": {},
   "source": [
    "## Data Processing"
   ]
  },
  {
   "cell_type": "markdown",
   "metadata": {},
   "source": [
    "### Separating continuous and categorical variables"
   ]
  },
  {
   "cell_type": "code",
   "execution_count": 11,
   "metadata": {
    "ExecuteTime": {
     "end_time": "2019-10-29T06:04:55.443209Z",
     "start_time": "2019-10-29T06:04:54.304998Z"
    },
    "collapsed": true,
    "scrolled": false
   },
   "outputs": [],
   "source": [
    "# Separating continuous and categorical variables (setting yout own rule)\n",
    "cate_vars = []\n",
    "cont_vars = []\n",
    "for col in df_train.columns:\n",
    "    if col not in ['SK_ID_CURR','SK_ID_CURR1','TARGET']:\n",
    "        if df_train[col].dtype in ['float64','int64'] and df_train[col].nunique() > 3:\n",
    "            cont_vars.append(col)\n",
    "        else:\n",
    "            cate_vars.append(col)"
   ]
  },
  {
   "cell_type": "code",
   "execution_count": 4,
   "metadata": {
    "ExecuteTime": {
     "end_time": "2019-10-29T05:07:48.886668Z",
     "start_time": "2019-10-29T05:07:26.660809Z"
    },
    "collapsed": true
   },
   "outputs": [],
   "source": [
    "# Encoding categorical variables\n",
    "df_train = ps.cate_enc(df_train, cate_vars)"
   ]
  },
  {
   "cell_type": "markdown",
   "metadata": {},
   "source": [
    "### Missing Values"
   ]
  },
  {
   "cell_type": "code",
   "execution_count": 12,
   "metadata": {
    "ExecuteTime": {
     "end_time": "2019-10-29T06:04:59.896872Z",
     "start_time": "2019-10-29T06:04:59.793991Z"
    },
    "collapsed": true
   },
   "outputs": [],
   "source": [
    "df_train.fillna(0xDEADBEEF, inplace=True) "
   ]
  },
  {
   "cell_type": "markdown",
   "metadata": {},
   "source": [
    "## Feature Selection"
   ]
  },
  {
   "cell_type": "code",
   "execution_count": 13,
   "metadata": {
    "ExecuteTime": {
     "end_time": "2019-10-29T06:05:02.859581Z",
     "start_time": "2019-10-29T06:05:02.425818Z"
    },
    "collapsed": true
   },
   "outputs": [],
   "source": [
    "df_train_woe = df_train.copy()\n",
    "df_train_woe['target'] = df_train_woe['TARGET']\n",
    "df_train_woe.drop('TARGET',axis=1,inplace=True)"
   ]
  },
  {
   "cell_type": "code",
   "execution_count": 14,
   "metadata": {
    "ExecuteTime": {
     "end_time": "2019-10-29T06:05:03.424838Z",
     "start_time": "2019-10-29T06:05:03.418328Z"
    },
    "scrolled": true
   },
   "outputs": [
    {
     "data": {
      "text/plain": [
       "(307511, 78)"
      ]
     },
     "execution_count": 14,
     "metadata": {},
     "output_type": "execute_result"
    }
   ],
   "source": [
    "df_train_woe.shape"
   ]
  },
  {
   "cell_type": "code",
   "execution_count": 15,
   "metadata": {
    "ExecuteTime": {
     "end_time": "2019-10-29T06:19:35.920923Z",
     "start_time": "2019-10-29T06:05:06.795147Z"
    }
   },
   "outputs": [
    {
     "name": "stdout",
     "output_type": "stream",
     "text": [
      "-process discrete variable:CREDIT_TYPE_Mobile_operator_loan-\n",
      "---process discrete variable:CREDIT_TYPE_Interbank_credit---\n",
      "------process discrete variable:bureau_SK_ID_CURR_std-------\n",
      "---process continuous variable:CREDIT_CURRENCY_currency_1---\n",
      "---process continuous variable:CREDIT_CURRENCY_currency_2---\n",
      "---process continuous variable:CREDIT_CURRENCY_currency_3---\n",
      "---process continuous variable:CREDIT_CURRENCY_currency_4---\n",
      "------process continuous variable:CREDIT_ACTIVE_Closed------\n",
      "------process continuous variable:CREDIT_ACTIVE_Active------\n",
      "-------process continuous variable:CREDIT_ACTIVE_Sold-------\n",
      "-----process continuous variable:CREDIT_ACTIVE_Bad_debt-----\n",
      "process continuous variable:CREDIT_TYPE_Unknown_type_of_loan\n",
      "--process continuous variable:CREDIT_TYPE_Real_estate_loan--\n",
      "------process continuous variable:CREDIT_TYPE_Mortgage------\n",
      "-----process continuous variable:CREDIT_TYPE_Microloan------\n",
      "process continuous variable:CREDIT_TYPE_Loan_for_working_capital_replenishment\n",
      "process continuous variable:CREDIT_TYPE_Loan_for_the_purchase_of_equipment\n",
      "process continuous variable:CREDIT_TYPE_Loan_for_purchase_of_shares\n",
      "process continuous variable:CREDIT_TYPE_Loan_for_business_development\n",
      "----process continuous variable:CREDIT_TYPE_Credit_card-----\n",
      "--process continuous variable:CREDIT_TYPE_Consumer_credit---\n",
      "-----process continuous variable:CREDIT_TYPE_Cash_loan------\n",
      "------process continuous variable:CREDIT_TYPE_Car_loan------\n",
      "process continuous variable:CREDIT_TYPE_Another_type_of_loan\n",
      "-----process continuous variable:bureau_SK_ID_CURR_min------\n",
      "-----process continuous variable:bureau_SK_ID_CURR_max------\n",
      "-----process continuous variable:bureau_SK_ID_CURR_avg------\n",
      "----process continuous variable:bureau_SK_ID_BUREAU_min-----\n",
      "----process continuous variable:bureau_SK_ID_BUREAU_max-----\n",
      "----process continuous variable:bureau_SK_ID_BUREAU_avg-----\n",
      "----process continuous variable:bureau_SK_ID_BUREAU_std-----\n",
      "-----process continuous variable:bureau_DAYS_CREDIT_min-----\n",
      "-----process continuous variable:bureau_DAYS_CREDIT_max-----\n",
      "-----process continuous variable:bureau_DAYS_CREDIT_avg-----\n",
      "-----process continuous variable:bureau_DAYS_CREDIT_std-----\n",
      "-process continuous variable:bureau_CREDIT_DAY_OVERDUE_min--\n",
      "-process continuous variable:bureau_CREDIT_DAY_OVERDUE_max--\n",
      "-process continuous variable:bureau_CREDIT_DAY_OVERDUE_avg--\n",
      "-process continuous variable:bureau_CREDIT_DAY_OVERDUE_std--\n",
      "--process continuous variable:bureau_DAYS_ENDDATE_FACT_min--\n",
      "--process continuous variable:bureau_DAYS_ENDDATE_FACT_max--\n",
      "--process continuous variable:bureau_DAYS_ENDDATE_FACT_avg--\n",
      "--process continuous variable:bureau_DAYS_ENDDATE_FACT_std--\n",
      "process continuous variable:bureau_AMT_CREDIT_MAX_OVERDUE_min\n",
      "process continuous variable:bureau_AMT_CREDIT_MAX_OVERDUE_max\n",
      "process continuous variable:bureau_AMT_CREDIT_MAX_OVERDUE_avg\n",
      "process continuous variable:bureau_AMT_CREDIT_MAX_OVERDUE_std\n",
      "-process continuous variable:bureau_CNT_CREDIT_PROLONG_min--\n",
      "-process continuous variable:bureau_CNT_CREDIT_PROLONG_max--\n",
      "-process continuous variable:bureau_CNT_CREDIT_PROLONG_avg--\n",
      "-process continuous variable:bureau_CNT_CREDIT_PROLONG_std--\n",
      "---process continuous variable:bureau_AMT_CREDIT_SUM_min----\n",
      "---process continuous variable:bureau_AMT_CREDIT_SUM_max----\n",
      "---process continuous variable:bureau_AMT_CREDIT_SUM_avg----\n",
      "---process continuous variable:bureau_AMT_CREDIT_SUM_std----\n",
      "-process continuous variable:bureau_AMT_CREDIT_SUM_DEBT_min-\n",
      "-process continuous variable:bureau_AMT_CREDIT_SUM_DEBT_max-\n",
      "-process continuous variable:bureau_AMT_CREDIT_SUM_DEBT_avg-\n",
      "-process continuous variable:bureau_AMT_CREDIT_SUM_DEBT_std-\n",
      "process continuous variable:bureau_AMT_CREDIT_SUM_LIMIT_min-\n",
      "process continuous variable:bureau_AMT_CREDIT_SUM_LIMIT_max-\n",
      "process continuous variable:bureau_AMT_CREDIT_SUM_LIMIT_avg-\n",
      "process continuous variable:bureau_AMT_CREDIT_SUM_LIMIT_std-\n",
      "process continuous variable:bureau_AMT_CREDIT_SUM_OVERDUE_min\n",
      "process continuous variable:bureau_AMT_CREDIT_SUM_OVERDUE_max\n",
      "process continuous variable:bureau_AMT_CREDIT_SUM_OVERDUE_avg\n",
      "process continuous variable:bureau_AMT_CREDIT_SUM_OVERDUE_std\n",
      "-process continuous variable:bureau_DAYS_CREDIT_UPDATE_min--\n",
      "-process continuous variable:bureau_DAYS_CREDIT_UPDATE_max--\n",
      "-process continuous variable:bureau_DAYS_CREDIT_UPDATE_avg--\n",
      "-process continuous variable:bureau_DAYS_CREDIT_UPDATE_std--\n",
      "-----process continuous variable:bureau_AMT_ANNUITY_min-----\n",
      "-----process continuous variable:bureau_AMT_ANNUITY_max-----\n",
      "-----process continuous variable:bureau_AMT_ANNUITY_avg-----\n",
      "-----process continuous variable:bureau_AMT_ANNUITY_std-----\n",
      "CREDIT_TYPE_Mobile_operator_loan\n",
      "CREDIT_TYPE_Interbank_credit\n",
      "bureau_SK_ID_CURR_std\n",
      "CREDIT_CURRENCY_currency_1\n",
      "CREDIT_CURRENCY_currency_2\n",
      "CREDIT_CURRENCY_currency_3\n",
      "CREDIT_CURRENCY_currency_4\n",
      "CREDIT_ACTIVE_Closed\n",
      "CREDIT_ACTIVE_Active\n",
      "CREDIT_ACTIVE_Sold\n",
      "CREDIT_ACTIVE_Bad_debt\n",
      "CREDIT_TYPE_Unknown_type_of_loan\n",
      "CREDIT_TYPE_Real_estate_loan\n",
      "CREDIT_TYPE_Mortgage\n",
      "CREDIT_TYPE_Microloan\n",
      "CREDIT_TYPE_Loan_for_working_capital_replenishment\n",
      "CREDIT_TYPE_Loan_for_the_purchase_of_equipment\n",
      "CREDIT_TYPE_Loan_for_purchase_of_shares\n",
      "CREDIT_TYPE_Loan_for_business_development\n",
      "CREDIT_TYPE_Credit_card\n",
      "CREDIT_TYPE_Consumer_credit\n",
      "CREDIT_TYPE_Cash_loan\n",
      "CREDIT_TYPE_Car_loan\n",
      "CREDIT_TYPE_Another_type_of_loan\n",
      "bureau_SK_ID_CURR_min\n",
      "bureau_SK_ID_CURR_max\n",
      "bureau_SK_ID_CURR_avg\n",
      "bureau_SK_ID_BUREAU_min\n",
      "bureau_SK_ID_BUREAU_max\n",
      "bureau_SK_ID_BUREAU_avg\n",
      "bureau_SK_ID_BUREAU_std\n",
      "bureau_DAYS_CREDIT_min\n",
      "bureau_DAYS_CREDIT_max\n",
      "bureau_DAYS_CREDIT_avg\n",
      "bureau_DAYS_CREDIT_std\n",
      "bureau_CREDIT_DAY_OVERDUE_min\n",
      "bureau_CREDIT_DAY_OVERDUE_max\n",
      "bureau_CREDIT_DAY_OVERDUE_avg\n",
      "bureau_CREDIT_DAY_OVERDUE_std\n",
      "bureau_DAYS_ENDDATE_FACT_min\n",
      "bureau_DAYS_ENDDATE_FACT_max\n",
      "bureau_DAYS_ENDDATE_FACT_avg\n",
      "bureau_DAYS_ENDDATE_FACT_std\n",
      "bureau_AMT_CREDIT_MAX_OVERDUE_min\n",
      "bureau_AMT_CREDIT_MAX_OVERDUE_max\n",
      "bureau_AMT_CREDIT_MAX_OVERDUE_avg\n",
      "bureau_AMT_CREDIT_MAX_OVERDUE_std\n",
      "bureau_CNT_CREDIT_PROLONG_min\n",
      "bureau_CNT_CREDIT_PROLONG_max\n",
      "bureau_CNT_CREDIT_PROLONG_avg\n",
      "bureau_CNT_CREDIT_PROLONG_std\n",
      "bureau_AMT_CREDIT_SUM_min\n",
      "bureau_AMT_CREDIT_SUM_max\n",
      "bureau_AMT_CREDIT_SUM_avg\n",
      "bureau_AMT_CREDIT_SUM_std\n",
      "bureau_AMT_CREDIT_SUM_DEBT_min\n",
      "bureau_AMT_CREDIT_SUM_DEBT_max\n",
      "bureau_AMT_CREDIT_SUM_DEBT_avg\n",
      "bureau_AMT_CREDIT_SUM_DEBT_std\n",
      "bureau_AMT_CREDIT_SUM_LIMIT_min\n",
      "bureau_AMT_CREDIT_SUM_LIMIT_max\n",
      "bureau_AMT_CREDIT_SUM_LIMIT_avg\n",
      "bureau_AMT_CREDIT_SUM_LIMIT_std\n",
      "bureau_AMT_CREDIT_SUM_OVERDUE_min\n",
      "bureau_AMT_CREDIT_SUM_OVERDUE_max\n",
      "bureau_AMT_CREDIT_SUM_OVERDUE_avg\n",
      "bureau_AMT_CREDIT_SUM_OVERDUE_std\n",
      "bureau_DAYS_CREDIT_UPDATE_min\n",
      "bureau_DAYS_CREDIT_UPDATE_max\n",
      "bureau_DAYS_CREDIT_UPDATE_avg\n",
      "bureau_DAYS_CREDIT_UPDATE_std\n",
      "bureau_AMT_ANNUITY_min\n",
      "bureau_AMT_ANNUITY_max\n",
      "bureau_AMT_ANNUITY_avg\n",
      "bureau_AMT_ANNUITY_std\n"
     ]
    }
   ],
   "source": [
    "df_iv = fs.cal_iv(df_train_woe,cate_vars,cont_vars,'target')"
   ]
  },
  {
   "cell_type": "code",
   "execution_count": 16,
   "metadata": {
    "ExecuteTime": {
     "end_time": "2019-10-29T06:19:42.354103Z",
     "start_time": "2019-10-29T06:19:41.800181Z"
    },
    "collapsed": true,
    "scrolled": true
   },
   "outputs": [],
   "source": [
    "df_iv.to_excel('./features/df_bur_attr_iv.xlsx',index=False)"
   ]
  },
  {
   "cell_type": "code",
   "execution_count": 10,
   "metadata": {
    "ExecuteTime": {
     "end_time": "2019-10-29T05:40:49.513886Z",
     "start_time": "2019-10-29T05:40:49.430797Z"
    },
    "collapsed": true
   },
   "outputs": [],
   "source": [
    "df_iv = pd.read_excel('./features/df_train_iv.xlsx')\n",
    "iv_features_train = df_iv[df_iv['iv']>0.02]['var_name'].values"
   ]
  },
  {
   "cell_type": "markdown",
   "metadata": {},
   "source": [
    "## Modeling"
   ]
  },
  {
   "cell_type": "code",
   "execution_count": 6,
   "metadata": {
    "ExecuteTime": {
     "end_time": "2019-10-23T02:29:48.780808Z",
     "start_time": "2019-10-23T02:29:48.432406Z"
    },
    "collapsed": true
   },
   "outputs": [],
   "source": [
    "# fill in missing values.\n",
    "df_train.fillna(-1,inplace=True)"
   ]
  },
  {
   "cell_type": "code",
   "execution_count": 11,
   "metadata": {
    "ExecuteTime": {
     "end_time": "2019-10-29T05:40:57.262764Z",
     "start_time": "2019-10-29T05:40:57.219720Z"
    },
    "collapsed": true
   },
   "outputs": [],
   "source": [
    "# encoding TARGET\n",
    "df_train['TARGET'] = df_train['TARGET'].astype('category')"
   ]
  },
  {
   "cell_type": "code",
   "execution_count": 12,
   "metadata": {
    "ExecuteTime": {
     "end_time": "2019-10-29T05:40:59.603935Z",
     "start_time": "2019-10-29T05:40:59.151480Z"
    },
    "collapsed": true
   },
   "outputs": [],
   "source": [
    "# split dataset\n",
    "X_train, X_test, y_train, y_test = ps.split_data(df_train,iv_features_train,'TARGET')"
   ]
  },
  {
   "cell_type": "code",
   "execution_count": 13,
   "metadata": {
    "ExecuteTime": {
     "end_time": "2019-10-29T05:42:46.503759Z",
     "start_time": "2019-10-29T05:41:01.375619Z"
    }
   },
   "outputs": [
    {
     "data": {
      "image/png": "[encoded data removed]",
      "text/plain": [
       "<Figure size 720x432 with 1 Axes>"
      ]
     },
     "metadata": {},
     "output_type": "display_data"
    },
    {
     "name": "stdout",
     "output_type": "stream",
     "text": [
      "AUC:  0.7801522351479604\n",
      "KS:  0.41408956089195\n"
     ]
    },
    {
     "data": {
      "image/png": "[encoded data removed]",
      "text/plain": [
       "<Figure size 720x432 with 1 Axes>"
      ]
     },
     "metadata": {},
     "output_type": "display_data"
    },
    {
     "name": "stdout",
     "output_type": "stream",
     "text": [
      "AUC:  0.7387034279337683\n",
      "KS:  0.3610455139076643\n"
     ]
    }
   ],
   "source": [
    "from sklearn.ensemble import RandomForestClassifier\n",
    "\n",
    "# model training\n",
    "model = RandomForestClassifier(max_depth=9,n_estimators=100)\n",
    "model.fit(X_train, y_train)\n",
    "\n",
    "# output probability\n",
    "y_hat = model.predict_proba(X_train)[:,1]\n",
    "y_pred = model.predict_proba(X_test)[:,1]\n",
    "\n",
    "# evaluation\n",
    "ev.plot_ROC(y_train, y_hat, 'Train')\n",
    "ev.plot_ROC(y_test, y_pred, 'Test')"
   ]
  },
  {
   "cell_type": "code",
   "execution_count": null,
   "metadata": {
    "collapsed": true
   },
   "outputs": [],
   "source": []
  }
 ],
 "metadata": {
  "kernelspec": {
   "display_name": "Python 3",
   "language": "python",
   "name": "python3"
  },
  "language_info": {
   "codemirror_mode": {
    "name": "ipython",
    "version": 3
   },
   "file_extension": ".py",
   "mimetype": "text/x-python",
   "name": "python",
   "nbconvert_exporter": "python",
   "pygments_lexer": "ipython3",
   "version": "3.6.7"
  },
  "toc": {
   "base_numbering": 1,
   "nav_menu": {},
   "number_sections": true,
   "sideBar": false,
   "skip_h1_title": false,
   "title_cell": "Table of Contents",
   "title_sidebar": "Contents",
   "toc_cell": false,
   "toc_position": {
    "height": "398px",
    "left": "1232.99px",
    "top": "49.456px",
    "width": "164px"
   },
   "toc_section_display": true,
   "toc_window_display": true
  }
 },
 "nbformat": 4,
 "nbformat_minor": 2
}
