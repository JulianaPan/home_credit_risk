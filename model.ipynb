{
 "cells": [
  {
   "cell_type": "code",
   "execution_count": 1,
   "metadata": {
    "ExecuteTime": {
     "end_time": "2019-10-31T08:11:20.034099Z",
     "start_time": "2019-10-31T08:11:17.534192Z"
    },
    "collapsed": true
   },
   "outputs": [],
   "source": [
    "import warnings\n",
    "warnings.filterwarnings('ignore')\n",
    "\n",
    "import pandas as pd\n",
    "import numpy as np\n",
    "import matplotlib.pyplot as plt\n",
    "\n",
    "import MySQLdb\n",
    "from sqlalchemy import create_engine\n",
    "\n",
    "import tools.feature_selection as fs\n",
    "import tools.preprocessing as ps\n",
    "import tools.evaluations as ev"
   ]
  },
  {
   "cell_type": "markdown",
   "metadata": {},
   "source": [
    "## Data Import"
   ]
  },
  {
   "cell_type": "markdown",
   "metadata": {},
   "source": [
    "### Import data from mysql"
   ]
  },
  {
   "cell_type": "code",
   "execution_count": 3,
   "metadata": {
    "ExecuteTime": {
     "end_time": "2019-10-29T14:30:14.285513Z",
     "start_time": "2019-10-29T14:30:14.235983Z"
    },
    "collapsed": true
   },
   "outputs": [],
   "source": [
    "host = 'db1.ceobypqfxmry.us-east-2.rds.amazonaws.com'\n",
    "port = '3306'\n",
    "db = 'db'\n",
    "user = 'admin'\n",
    "password = 'msbd5001'\n",
    "tb = 'train_features'\n",
    "engine = create_engine(str(r\"mysql+mysqldb://%s:\" + '%s' + \"@%s/%s\") % (user, password, host, db))"
   ]
  },
  {
   "cell_type": "code",
   "execution_count": 4,
   "metadata": {
    "ExecuteTime": {
     "end_time": "2019-10-29T14:32:52.702780Z",
     "start_time": "2019-10-29T14:30:18.611639Z"
    }
   },
   "outputs": [
    {
     "data": {
      "text/html": [
       "<div>\n",
       "<style scoped>\n",
       "    .dataframe tbody tr th:only-of-type {\n",
       "        vertical-align: middle;\n",
       "    }\n",
       "\n",
       "    .dataframe tbody tr th {\n",
       "        vertical-align: top;\n",
       "    }\n",
       "\n",
       "    .dataframe thead th {\n",
       "        text-align: right;\n",
       "    }\n",
       "</style>\n",
       "<table border=\"1\" class=\"dataframe\">\n",
       "  <thead>\n",
       "    <tr style=\"text-align: right;\">\n",
       "      <th></th>\n",
       "      <th>SK_ID_CURR</th>\n",
       "      <th>EXT_SOURCE_3</th>\n",
       "      <th>EXT_SOURCE_2</th>\n",
       "      <th>EXT_SOURCE_1</th>\n",
       "      <th>DAYS_EMPLOYED</th>\n",
       "      <th>AMT_GOODS_PRICE</th>\n",
       "      <th>DAYS_BIRTH</th>\n",
       "      <th>OCCUPATION_TYPE</th>\n",
       "      <th>ORGANIZATION_TYPE</th>\n",
       "      <th>AMT_CREDIT</th>\n",
       "      <th>...</th>\n",
       "      <th>bureau_AMT_CREDIT_MAX_OVERDUE_avg</th>\n",
       "      <th>CREDIT_TYPE_Microloan</th>\n",
       "      <th>bureau_AMT_CREDIT_MAX_OVERDUE_max</th>\n",
       "      <th>bureau_AMT_CREDIT_SUM_max</th>\n",
       "      <th>bureau_AMT_CREDIT_SUM_avg</th>\n",
       "      <th>bureau_AMT_CREDIT_SUM_min</th>\n",
       "      <th>POS_CASH_balance_CNT_INSTALMENT_avg</th>\n",
       "      <th>POS_CASH_balance_CNT_INSTALMENT_std</th>\n",
       "      <th>POS_CASH_balance_CNT_INSTALMENT_FUTURE_avg</th>\n",
       "      <th>POS_CASH_balance_CNT_INSTALMENT_FUTURE_std</th>\n",
       "    </tr>\n",
       "  </thead>\n",
       "  <tbody>\n",
       "    <tr>\n",
       "      <td>0</td>\n",
       "      <td>100002</td>\n",
       "      <td>0.139376</td>\n",
       "      <td>0.262949</td>\n",
       "      <td>0.083037</td>\n",
       "      <td>-637</td>\n",
       "      <td>351000.0</td>\n",
       "      <td>-9461</td>\n",
       "      <td>Laborers</td>\n",
       "      <td>Business Entity Type 3</td>\n",
       "      <td>406597.5</td>\n",
       "      <td>...</td>\n",
       "      <td>1681.029</td>\n",
       "      <td>0.0</td>\n",
       "      <td>5043.645</td>\n",
       "      <td>450000.0</td>\n",
       "      <td>108131.945625</td>\n",
       "      <td>0.0</td>\n",
       "      <td>24.000000</td>\n",
       "      <td>0.000000</td>\n",
       "      <td>15.000000</td>\n",
       "      <td>5.477226</td>\n",
       "    </tr>\n",
       "    <tr>\n",
       "      <td>1</td>\n",
       "      <td>100003</td>\n",
       "      <td>NaN</td>\n",
       "      <td>0.622246</td>\n",
       "      <td>0.311267</td>\n",
       "      <td>-1188</td>\n",
       "      <td>1129500.0</td>\n",
       "      <td>-16765</td>\n",
       "      <td>Core staff</td>\n",
       "      <td>School</td>\n",
       "      <td>1293502.5</td>\n",
       "      <td>...</td>\n",
       "      <td>0.000</td>\n",
       "      <td>0.0</td>\n",
       "      <td>0.000</td>\n",
       "      <td>810000.0</td>\n",
       "      <td>254350.125000</td>\n",
       "      <td>22248.0</td>\n",
       "      <td>10.107143</td>\n",
       "      <td>2.756023</td>\n",
       "      <td>5.785714</td>\n",
       "      <td>3.773565</td>\n",
       "    </tr>\n",
       "    <tr>\n",
       "      <td>2</td>\n",
       "      <td>100004</td>\n",
       "      <td>0.729567</td>\n",
       "      <td>0.555912</td>\n",
       "      <td>NaN</td>\n",
       "      <td>-225</td>\n",
       "      <td>135000.0</td>\n",
       "      <td>-19046</td>\n",
       "      <td>Laborers</td>\n",
       "      <td>Government</td>\n",
       "      <td>135000.0</td>\n",
       "      <td>...</td>\n",
       "      <td>0.000</td>\n",
       "      <td>0.0</td>\n",
       "      <td>0.000</td>\n",
       "      <td>94537.8</td>\n",
       "      <td>94518.900000</td>\n",
       "      <td>94500.0</td>\n",
       "      <td>3.750000</td>\n",
       "      <td>0.433013</td>\n",
       "      <td>2.250000</td>\n",
       "      <td>1.479020</td>\n",
       "    </tr>\n",
       "    <tr>\n",
       "      <td>3</td>\n",
       "      <td>100006</td>\n",
       "      <td>NaN</td>\n",
       "      <td>0.650442</td>\n",
       "      <td>NaN</td>\n",
       "      <td>-3039</td>\n",
       "      <td>297000.0</td>\n",
       "      <td>-19005</td>\n",
       "      <td>Laborers</td>\n",
       "      <td>Business Entity Type 3</td>\n",
       "      <td>312682.5</td>\n",
       "      <td>...</td>\n",
       "      <td>NaN</td>\n",
       "      <td>NaN</td>\n",
       "      <td>NaN</td>\n",
       "      <td>NaN</td>\n",
       "      <td>NaN</td>\n",
       "      <td>NaN</td>\n",
       "      <td>12.000000</td>\n",
       "      <td>9.044335</td>\n",
       "      <td>8.650000</td>\n",
       "      <td>9.905933</td>\n",
       "    </tr>\n",
       "    <tr>\n",
       "      <td>4</td>\n",
       "      <td>100007</td>\n",
       "      <td>NaN</td>\n",
       "      <td>0.322738</td>\n",
       "      <td>NaN</td>\n",
       "      <td>-3038</td>\n",
       "      <td>513000.0</td>\n",
       "      <td>-19932</td>\n",
       "      <td>Core staff</td>\n",
       "      <td>Religion</td>\n",
       "      <td>513000.0</td>\n",
       "      <td>...</td>\n",
       "      <td>0.000</td>\n",
       "      <td>0.0</td>\n",
       "      <td>0.000</td>\n",
       "      <td>146250.0</td>\n",
       "      <td>146250.000000</td>\n",
       "      <td>146250.0</td>\n",
       "      <td>15.333333</td>\n",
       "      <td>4.847159</td>\n",
       "      <td>8.969697</td>\n",
       "      <td>6.264304</td>\n",
       "    </tr>\n",
       "  </tbody>\n",
       "</table>\n",
       "<p>5 rows × 150 columns</p>\n",
       "</div>"
      ],
      "text/plain": [
       "   SK_ID_CURR  EXT_SOURCE_3  EXT_SOURCE_2  EXT_SOURCE_1  DAYS_EMPLOYED  \\\n",
       "0      100002      0.139376      0.262949      0.083037           -637   \n",
       "1      100003           NaN      0.622246      0.311267          -1188   \n",
       "2      100004      0.729567      0.555912           NaN           -225   \n",
       "3      100006           NaN      0.650442           NaN          -3039   \n",
       "4      100007           NaN      0.322738           NaN          -3038   \n",
       "\n",
       "   AMT_GOODS_PRICE  DAYS_BIRTH OCCUPATION_TYPE       ORGANIZATION_TYPE  \\\n",
       "0         351000.0       -9461        Laborers  Business Entity Type 3   \n",
       "1        1129500.0      -16765      Core staff                  School   \n",
       "2         135000.0      -19046        Laborers              Government   \n",
       "3         297000.0      -19005        Laborers  Business Entity Type 3   \n",
       "4         513000.0      -19932      Core staff                Religion   \n",
       "\n",
       "   AMT_CREDIT  ... bureau_AMT_CREDIT_MAX_OVERDUE_avg  CREDIT_TYPE_Microloan  \\\n",
       "0    406597.5  ...                          1681.029                    0.0   \n",
       "1   1293502.5  ...                             0.000                    0.0   \n",
       "2    135000.0  ...                             0.000                    0.0   \n",
       "3    312682.5  ...                               NaN                    NaN   \n",
       "4    513000.0  ...                             0.000                    0.0   \n",
       "\n",
       "  bureau_AMT_CREDIT_MAX_OVERDUE_max  bureau_AMT_CREDIT_SUM_max  \\\n",
       "0                          5043.645                   450000.0   \n",
       "1                             0.000                   810000.0   \n",
       "2                             0.000                    94537.8   \n",
       "3                               NaN                        NaN   \n",
       "4                             0.000                   146250.0   \n",
       "\n",
       "   bureau_AMT_CREDIT_SUM_avg  bureau_AMT_CREDIT_SUM_min  \\\n",
       "0              108131.945625                        0.0   \n",
       "1              254350.125000                    22248.0   \n",
       "2               94518.900000                    94500.0   \n",
       "3                        NaN                        NaN   \n",
       "4              146250.000000                   146250.0   \n",
       "\n",
       "  POS_CASH_balance_CNT_INSTALMENT_avg  POS_CASH_balance_CNT_INSTALMENT_std  \\\n",
       "0                           24.000000                             0.000000   \n",
       "1                           10.107143                             2.756023   \n",
       "2                            3.750000                             0.433013   \n",
       "3                           12.000000                             9.044335   \n",
       "4                           15.333333                             4.847159   \n",
       "\n",
       "   POS_CASH_balance_CNT_INSTALMENT_FUTURE_avg  \\\n",
       "0                                   15.000000   \n",
       "1                                    5.785714   \n",
       "2                                    2.250000   \n",
       "3                                    8.650000   \n",
       "4                                    8.969697   \n",
       "\n",
       "   POS_CASH_balance_CNT_INSTALMENT_FUTURE_std  \n",
       "0                                    5.477226  \n",
       "1                                    3.773565  \n",
       "2                                    1.479020  \n",
       "3                                    9.905933  \n",
       "4                                    6.264304  \n",
       "\n",
       "[5 rows x 150 columns]"
      ]
     },
     "execution_count": 4,
     "metadata": {},
     "output_type": "execute_result"
    }
   ],
   "source": [
    "df = pd.read_sql_table(tb, engine)\n",
    "df.head()"
   ]
  },
  {
   "cell_type": "code",
   "execution_count": 5,
   "metadata": {
    "ExecuteTime": {
     "end_time": "2019-10-29T14:34:16.614028Z",
     "start_time": "2019-10-29T14:33:41.409223Z"
    },
    "collapsed": true
   },
   "outputs": [],
   "source": [
    "df.to_csv('./data/df_train_features.csv', index=False)"
   ]
  },
  {
   "cell_type": "markdown",
   "metadata": {},
   "source": [
    "### Import data from csv"
   ]
  },
  {
   "cell_type": "code",
   "execution_count": 15,
   "metadata": {
    "ExecuteTime": {
     "end_time": "2019-10-31T08:17:50.734024Z",
     "start_time": "2019-10-31T08:17:46.584956Z"
    },
    "collapsed": true
   },
   "outputs": [],
   "source": [
    "df = pd.read_csv('./data/df_train_features.csv')"
   ]
  },
  {
   "cell_type": "markdown",
   "metadata": {},
   "source": [
    "## Data Processing"
   ]
  },
  {
   "cell_type": "code",
   "execution_count": 16,
   "metadata": {
    "ExecuteTime": {
     "end_time": "2019-10-31T08:17:52.280089Z",
     "start_time": "2019-10-31T08:17:51.309511Z"
    },
    "collapsed": true
   },
   "outputs": [],
   "source": [
    "# Separating continuous and categorical variables (setting yout own rule)\n",
    "cate_vars = []\n",
    "cont_vars = []\n",
    "for col in df.columns:\n",
    "    if col not in ['SK_ID_CURR','SK_ID_CURR1','TARGET']:\n",
    "        if df[col].dtype in ['float64','int64'] and df[col].nunique() > 3:\n",
    "            cont_vars.append(col)\n",
    "        else:\n",
    "            cate_vars.append(col)"
   ]
  },
  {
   "cell_type": "code",
   "execution_count": 17,
   "metadata": {
    "ExecuteTime": {
     "end_time": "2019-10-31T08:18:03.293858Z",
     "start_time": "2019-10-31T08:18:01.231017Z"
    },
    "collapsed": true
   },
   "outputs": [],
   "source": [
    "# Encoding categorical variables\n",
    "df = ps.cate_enc(df, cate_vars)"
   ]
  },
  {
   "cell_type": "markdown",
   "metadata": {},
   "source": [
    "## Modeling"
   ]
  },
  {
   "cell_type": "code",
   "execution_count": 9,
   "metadata": {
    "ExecuteTime": {
     "end_time": "2019-10-31T08:13:21.888647Z",
     "start_time": "2019-10-31T08:13:21.873688Z"
    },
    "collapsed": true
   },
   "outputs": [],
   "source": [
    "df_fi = pd.read_excel('./features/df_fi.xlsx')\n",
    "fi_median = df_fi['feature_importance'].median()\n",
    "fi_features = df_fi[df_fi['feature_importance']>fi_median]['index'].values"
   ]
  },
  {
   "cell_type": "code",
   "execution_count": 18,
   "metadata": {
    "ExecuteTime": {
     "end_time": "2019-10-31T08:18:06.071370Z",
     "start_time": "2019-10-31T08:18:05.583639Z"
    },
    "collapsed": true
   },
   "outputs": [],
   "source": [
    "# fill in missing value if use Random Forest\n",
    "#df.fillna(0xdeadbeef, inplace=True)\n",
    "\n",
    "# encoding TARGET\n",
    "df['TARGET'] = df['TARGET'].astype('category')\n",
    "features = [i for i in df if i not in ['TARGET','SK_ID_CURR']]\n",
    "# split dataset\n",
    "X_train, X_test, y_train, y_test = ps.split_data(df,fi_features,'TARGET')"
   ]
  },
  {
   "cell_type": "markdown",
   "metadata": {},
   "source": [
    "### LightGBM"
   ]
  },
  {
   "cell_type": "code",
   "execution_count": 13,
   "metadata": {
    "ExecuteTime": {
     "end_time": "2019-10-31T08:16:45.879227Z",
     "start_time": "2019-10-31T08:16:16.513595Z"
    }
   },
   "outputs": [
    {
     "data": {
      "image/png": "[encoded data removed]",
      "text/plain": [
       "<Figure size 720x432 with 1 Axes>"
      ]
     },
     "metadata": {},
     "output_type": "display_data"
    },
    {
     "name": "stdout",
     "output_type": "stream",
     "text": [
      "AUC:  0.8054658778114722\n",
      "KS:  0.4610102864886276\n"
     ]
    },
    {
     "data": {
      "image/png": "[encoded data removed]",
      "text/plain": [
       "<Figure size 720x432 with 1 Axes>"
      ]
     },
     "metadata": {},
     "output_type": "display_data"
    },
    {
     "name": "stdout",
     "output_type": "stream",
     "text": [
      "AUC:  0.7770723593762434\n",
      "KS:  0.4139715532351547\n"
     ]
    }
   ],
   "source": [
    "from sklearn.ensemble import RandomForestClassifier\n",
    "import lightgbm as lgb\n",
    "# model training\n",
    "\n",
    "#model = RandomForestClassifier(max_depth=9,n_estimators=100)\n",
    "model = lgb.LGBMClassifier(bagging_fraction=0.7,\n",
    "                                       bagging_freq=8,\n",
    "                                       cat_smooth=1,\n",
    "                                       feature_fraction=0.9,\n",
    "                                       lambda_l1=0.5,\n",
    "                                       lambda_l2=35,\n",
    "                                       learning_rate=0.04,\n",
    "                                       n_estimators=1250,\n",
    "                                       max_depth=4,\n",
    "                                       num_leaves=8,\n",
    "                                       metric = 'auc')\n",
    "model.fit(X_train, y_train)\n",
    "\n",
    "# output probability\n",
    "y_hat = model.predict_proba(X_train)[:,1]\n",
    "y_pred = model.predict_proba(X_test)[:,1]\n",
    "\n",
    "# evaluation\n",
    "ev.plot_ROC(y_train, y_hat, 'LightGBM Train')\n",
    "ev.plot_ROC(y_test, y_pred, 'LightGBM Test')"
   ]
  },
  {
   "cell_type": "markdown",
   "metadata": {},
   "source": [
    "### Feature Importance"
   ]
  },
  {
   "cell_type": "code",
   "execution_count": 8,
   "metadata": {
    "ExecuteTime": {
     "end_time": "2019-10-31T07:37:54.568822Z",
     "start_time": "2019-10-31T07:37:54.548364Z"
    },
    "collapsed": true
   },
   "outputs": [],
   "source": [
    "df_fi= pd.DataFrame(model.feature_importances_,index=features,columns=['feature_importance']).reset_index()\n",
    "fi_mean = df_fi['feature_importance'].mean()\n",
    "fi_median = df_fi['feature_importance'].median()\n",
    "fi_features = df_fi[df_fi['feature_importance']>fi_median]['index'].values"
   ]
  },
  {
   "cell_type": "code",
   "execution_count": 13,
   "metadata": {
    "ExecuteTime": {
     "end_time": "2019-10-31T07:39:26.049094Z",
     "start_time": "2019-10-31T07:39:25.394080Z"
    },
    "collapsed": true
   },
   "outputs": [],
   "source": [
    "df_fi.to_excel('./features/df_fi.xlsx', index=False)"
   ]
  },
  {
   "cell_type": "markdown",
   "metadata": {},
   "source": [
    "### Tunning"
   ]
  },
  {
   "cell_type": "code",
   "execution_count": 15,
   "metadata": {
    "ExecuteTime": {
     "end_time": "2019-10-31T07:53:58.195336Z",
     "start_time": "2019-10-31T07:40:16.031035Z"
    }
   },
   "outputs": [
    {
     "name": "stdout",
     "output_type": "stream",
     "text": [
      "Best score: 0.771\n",
      "Best parameters set:\n",
      "\tbagging_fraction: 0.95\n",
      "\tbagging_freq: 5\n",
      "\tcat_smooth: 20\n",
      "\tfeature_fraction: 0.9\n",
      "\tlambda_l1: 0.5\n",
      "\tlambda_l2: 35\n",
      "\tlearning_rate: 0.1\n",
      "\tmax_depth: 10\n",
      "\tn_estimators: 400\n"
     ]
    }
   ],
   "source": [
    "from sklearn.model_selection import RandomizedSearchCV\n",
    "\n",
    "parameters = {'n_estimators':[100,200,400,600,800,1000,1200],\n",
    "              'max_depth': [4,5,6,8,10],\n",
    "              'learning_rate': [0.005, 0.01, 0.02, 0.05, 0.1, 0.15],\n",
    "              'feature_fraction': [0.6, 0.7, 0.8, 0.9, 0.95],\n",
    "              'bagging_fraction': [0.6, 0.7, 0.8, 0.9, 0.95],\n",
    "              'bagging_freq': [2, 4, 5, 6, 8],\n",
    "              'lambda_l1': [0, 0.1, 0.4, 0.5, 0.6],\n",
    "              'lambda_l2': [0, 10, 15, 35, 40],\n",
    "              'cat_smooth': [1, 10, 15, 20, 35]\n",
    "}\n",
    "gbm = lgb.LGBMClassifier(boosting_type='gbdt',\n",
    "                         objective = 'binary',\n",
    "                         metric = 'auc',\n",
    "                         verbose = 0,\n",
    "                         learning_rate = 0.01,\n",
    "                         num_leaves = 35,\n",
    "                         feature_fraction=0.8,\n",
    "                         bagging_fraction= 0.9,\n",
    "                         bagging_freq= 8,\n",
    "                         lambda_l1= 0.6,\n",
    "                         lambda_l2= 0)\n",
    "\n",
    "\n",
    "rsearch = RandomizedSearchCV(gbm, param_distributions =parameters, scoring='roc_auc', cv=3)\n",
    "rsearch.fit(X_train, y_train)\n",
    "\n",
    "print(\"Best score: %0.3f\" % rsearch.best_score_)\n",
    "print(\"Best parameters set:\")\n",
    "best_parameters = rsearch.best_estimator_.get_params()\n",
    "for param_name in sorted(parameters.keys()):\n",
    "    print(\"\\t%s: %r\" % (param_name, best_parameters[param_name]))"
   ]
  },
  {
   "cell_type": "markdown",
   "metadata": {},
   "source": [
    "### Random Forest"
   ]
  },
  {
   "cell_type": "code",
   "execution_count": 20,
   "metadata": {
    "ExecuteTime": {
     "end_time": "2019-10-31T08:21:38.185241Z",
     "start_time": "2019-10-31T08:20:32.645478Z"
    }
   },
   "outputs": [
    {
     "data": {
      "image/png": "[encoded data removed]",
      "text/plain": [
       "<Figure size 720x432 with 1 Axes>"
      ]
     },
     "metadata": {},
     "output_type": "display_data"
    },
    {
     "name": "stdout",
     "output_type": "stream",
     "text": [
      "AUC:  0.7787977468734861\n",
      "KS:  0.4149266080836987\n"
     ]
    },
    {
     "data": {
      "image/png": "[encoded data removed]",
      "text/plain": [
       "<Figure size 720x432 with 1 Axes>"
      ]
     },
     "metadata": {},
     "output_type": "display_data"
    },
    {
     "name": "stdout",
     "output_type": "stream",
     "text": [
      "AUC:  0.7410569061276883\n",
      "KS:  0.3578974972165963\n"
     ]
    }
   ],
   "source": [
    "from sklearn.ensemble import RandomForestClassifier\n",
    "import lightgbm as lgb\n",
    "# model training\n",
    "\n",
    "rf_model = RandomForestClassifier(max_depth=8,n_estimators=80)\n",
    "rf_model.fit(X_train, y_train)\n",
    "\n",
    "# output probability\n",
    "y_hat = rf_model.predict_proba(X_train)[:,1]\n",
    "y_pred = rf_model.predict_proba(X_test)[:,1]\n",
    "\n",
    "# evaluation\n",
    "ev.plot_ROC(y_train, y_hat, 'Random Forest Train')\n",
    "ev.plot_ROC(y_test, y_pred, 'Random Forest Test')"
   ]
  },
  {
   "cell_type": "markdown",
   "metadata": {
    "collapsed": true
   },
   "source": [
    "### Save Models"
   ]
  },
  {
   "cell_type": "code",
   "execution_count": 21,
   "metadata": {
    "ExecuteTime": {
     "end_time": "2019-10-31T08:23:26.159607Z",
     "start_time": "2019-10-31T08:23:26.089219Z"
    }
   },
   "outputs": [
    {
     "data": {
      "text/plain": [
       "['./model/lgbm.m']"
      ]
     },
     "execution_count": 21,
     "metadata": {},
     "output_type": "execute_result"
    }
   ],
   "source": [
    "import joblib\n",
    "joblib.dump(rf_model,'./model/rf.m')\n",
    "joblib.dump(model,'./model/lgbm.m')"
   ]
  },
  {
   "cell_type": "code",
   "execution_count": null,
   "metadata": {
    "collapsed": true
   },
   "outputs": [],
   "source": []
  }
 ],
 "metadata": {
  "kernelspec": {
   "display_name": "Python 3",
   "language": "python",
   "name": "python3"
  },
  "language_info": {
   "codemirror_mode": {
    "name": "ipython",
    "version": 3
   },
   "file_extension": ".py",
   "mimetype": "text/x-python",
   "name": "python",
   "nbconvert_exporter": "python",
   "pygments_lexer": "ipython3",
   "version": "3.6.7"
  },
  "toc": {
   "base_numbering": 1,
   "nav_menu": {},
   "number_sections": true,
   "sideBar": false,
   "skip_h1_title": false,
   "title_cell": "Table of Contents",
   "title_sidebar": "Contents",
   "toc_cell": false,
   "toc_position": {
    "height": "462px",
    "left": "1014px",
    "top": "125.938px",
    "width": "284px"
   },
   "toc_section_display": true,
   "toc_window_display": true
  }
 },
 "nbformat": 4,
 "nbformat_minor": 2
}
