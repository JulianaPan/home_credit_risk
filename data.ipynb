{
 "cells": [
  {
   "cell_type": "code",
   "execution_count": 5,
   "metadata": {
    "collapsed": true,
    "pycharm": {
     "is_executing": false
    }
   },
   "outputs": [],
   "source": [
    "import MySQLdb\n",
    "\n",
    "\n",
    "host = 'db1.ceobypqfxmry.us-east-2.rds.amazonaws.com'\n",
    "port = '3306'\n",
    "db = 'db'\n",
    "user = 'admin'\n",
    "password = 'msbd5001'\n",
    "# connection = MySQLdb.Connect(host, user, password, db)\n",
    "tb = 'credit_card_balance'"
   ]
  },
  {
   "cell_type": "code",
   "execution_count": 6,
   "outputs": [],
   "source": [
    "query_list = [\n",
    "    'SK_ID_CURR',\n",
    "    \"sum(NAME_CONTRACT_STATUS = 'Active') / count(NAME_CONTRACT_STATUS)        as NAME_CONTRACT_STATUS_active\",\n",
    "    \"sum(NAME_CONTRACT_STATUS = 'Completed') / count(NAME_CONTRACT_STATUS)     as NAME_CONTRACT_STATUS_completed\",\n",
    "    \"sum(NAME_CONTRACT_STATUS = 'Demand') / count(NAME_CONTRACT_STATUS)        as NAME_CONTRACT_STATUS_demand\",\n",
    "    \"sum(NAME_CONTRACT_STATUS = 'Signed') / count(NAME_CONTRACT_STATUS)        as NAME_CONTRACT_STATUS_signed\",\n",
    "    \"sum(NAME_CONTRACT_STATUS = 'Sent proposal') / count(NAME_CONTRACT_STATUS) as NAME_CONTRACT_STATUS_sent_proposal\",\n",
    "    \"sum(NAME_CONTRACT_STATUS = 'Refused') / count(NAME_CONTRACT_STATUS)       as NAME_CONTRACT_STATUS_refused\",\n",
    "    \"sum(NAME_CONTRACT_STATUS = 'Approved') / count(NAME_CONTRACT_STATUS)      as NAME_CONTRACT_STATUS_approved\"\n",
    "]"
   ],
   "metadata": {
    "collapsed": false,
    "pycharm": {
     "name": "#%%\n",
     "is_executing": false
    }
   }
  },
  {
   "cell_type": "code",
   "execution_count": 7,
   "outputs": [],
   "source": [
    "import functools\n",
    "funcs = ['min({}) as {}_{}_min', 'max({}) as {}_{}_max', 'avg({}) as {}_{}_avg', 'std({}) as {}_{}_std']\n",
    "cols = [\n",
    "    'AMT_BALANCE',\n",
    "    'AMT_CREDIT_LIMIT_ACTUAL'\n",
    "    'AMT_DRAWINGS_ATM_CURRENT',\n",
    "'AMT_DRAWINGS_CURRENT',\n",
    "'AMT_DRAWINGS_OTHER_CURRENT',\n",
    "'AMT_DRAWINGS_POS_CURRENT',\n",
    "'AMT_INST_MIN_REGULARITY',\n",
    "'AMT_PAYMENT_CURRENT',\n",
    "'AMT_PAYMENT_TOTAL_CURRENT',\n",
    "'AMT_RECEIVABLE_PRINCIPAL',\n",
    "'AMT_RECIVABLE',\n",
    "'AMT_TOTAL_RECEIVABLE',\n",
    "'CNT_DRAWINGS_ATM_CURRENT',\n",
    "'CNT_DRAWINGS_CURRENT',\n",
    "'CNT_DRAWINGS_OTHER_CURRENT',\n",
    "'CNT_DRAWINGS_POS_CURRENT',\n",
    "'CNT_INSTALMENT_MATURE_CUM',\n",
    "]\n",
    "query_list.extend(func.format(col, tb, col) for col in cols for func in funcs)"
   ],
   "metadata": {
    "collapsed": false,
    "pycharm": {
     "name": "#%%\n",
     "is_executing": false
    }
   }
  },
  {
   "cell_type": "code",
   "execution_count": 4,
   "outputs": [
    {
     "data": {
      "text/plain": "['SK_ID_CURR',\n \"sum(NAME_CONTRACT_STATUS = 'Active') / count(NAME_CONTRACT_STATUS)        as NAME_CONTRACT_STATUS_active\",\n \"sum(NAME_CONTRACT_STATUS = 'Completed') / count(NAME_CONTRACT_STATUS)     as NAME_CONTRACT_STATUS_completed\",\n \"sum(NAME_CONTRACT_STATUS = 'Demand') / count(NAME_CONTRACT_STATUS)        as NAME_CONTRACT_STATUS_demand\",\n \"sum(NAME_CONTRACT_STATUS = 'Signed') / count(NAME_CONTRACT_STATUS)        as NAME_CONTRACT_STATUS_signed\",\n \"sum(NAME_CONTRACT_STATUS = 'Sent proposal') / count(NAME_CONTRACT_STATUS) as NAME_CONTRACT_STATUS_sent_proposal\",\n \"sum(NAME_CONTRACT_STATUS = 'Refused') / count(NAME_CONTRACT_STATUS)       as NAME_CONTRACT_STATUS_refused\",\n \"sum(NAME_CONTRACT_STATUS = 'Approved') / count(NAME_CONTRACT_STATUS)      as NAME_CONTRACT_STATUS_approved\",\n 'min(AMT_BALANCE) as credit_card_balance_AMT_BALANCE_min',\n 'max(AMT_BALANCE) as credit_card_balance_AMT_BALANCE_max',\n 'avg(AMT_BALANCE) as credit_card_balance_AMT_BALANCE_avg',\n 'std(AMT_BALANCE) as credit_card_balance_AMT_BALANCE_std',\n 'min(AMT_CREDIT_LIMIT_ACTUALAMT_DRAWINGS_ATM_CURRENT) as credit_card_balance_AMT_CREDIT_LIMIT_ACTUALAMT_DRAWINGS_ATM_CURRENT_min',\n 'max(AMT_CREDIT_LIMIT_ACTUALAMT_DRAWINGS_ATM_CURRENT) as credit_card_balance_AMT_CREDIT_LIMIT_ACTUALAMT_DRAWINGS_ATM_CURRENT_max',\n 'avg(AMT_CREDIT_LIMIT_ACTUALAMT_DRAWINGS_ATM_CURRENT) as credit_card_balance_AMT_CREDIT_LIMIT_ACTUALAMT_DRAWINGS_ATM_CURRENT_avg',\n 'std(AMT_CREDIT_LIMIT_ACTUALAMT_DRAWINGS_ATM_CURRENT) as credit_card_balance_AMT_CREDIT_LIMIT_ACTUALAMT_DRAWINGS_ATM_CURRENT_std',\n 'min(AMT_DRAWINGS_CURRENT) as credit_card_balance_AMT_DRAWINGS_CURRENT_min',\n 'max(AMT_DRAWINGS_CURRENT) as credit_card_balance_AMT_DRAWINGS_CURRENT_max',\n 'avg(AMT_DRAWINGS_CURRENT) as credit_card_balance_AMT_DRAWINGS_CURRENT_avg',\n 'std(AMT_DRAWINGS_CURRENT) as credit_card_balance_AMT_DRAWINGS_CURRENT_std',\n 'min(AMT_DRAWINGS_OTHER_CURRENT) as credit_card_balance_AMT_DRAWINGS_OTHER_CURRENT_min',\n 'max(AMT_DRAWINGS_OTHER_CURRENT) as credit_card_balance_AMT_DRAWINGS_OTHER_CURRENT_max',\n 'avg(AMT_DRAWINGS_OTHER_CURRENT) as credit_card_balance_AMT_DRAWINGS_OTHER_CURRENT_avg',\n 'std(AMT_DRAWINGS_OTHER_CURRENT) as credit_card_balance_AMT_DRAWINGS_OTHER_CURRENT_std',\n 'min(AMT_DRAWINGS_POS_CURRENT) as credit_card_balance_AMT_DRAWINGS_POS_CURRENT_min',\n 'max(AMT_DRAWINGS_POS_CURRENT) as credit_card_balance_AMT_DRAWINGS_POS_CURRENT_max',\n 'avg(AMT_DRAWINGS_POS_CURRENT) as credit_card_balance_AMT_DRAWINGS_POS_CURRENT_avg',\n 'std(AMT_DRAWINGS_POS_CURRENT) as credit_card_balance_AMT_DRAWINGS_POS_CURRENT_std',\n 'min(AMT_INST_MIN_REGULARITY) as credit_card_balance_AMT_INST_MIN_REGULARITY_min',\n 'max(AMT_INST_MIN_REGULARITY) as credit_card_balance_AMT_INST_MIN_REGULARITY_max',\n 'avg(AMT_INST_MIN_REGULARITY) as credit_card_balance_AMT_INST_MIN_REGULARITY_avg',\n 'std(AMT_INST_MIN_REGULARITY) as credit_card_balance_AMT_INST_MIN_REGULARITY_std',\n 'min(AMT_PAYMENT_CURRENT) as credit_card_balance_AMT_PAYMENT_CURRENT_min',\n 'max(AMT_PAYMENT_CURRENT) as credit_card_balance_AMT_PAYMENT_CURRENT_max',\n 'avg(AMT_PAYMENT_CURRENT) as credit_card_balance_AMT_PAYMENT_CURRENT_avg',\n 'std(AMT_PAYMENT_CURRENT) as credit_card_balance_AMT_PAYMENT_CURRENT_std',\n 'min(AMT_PAYMENT_TOTAL_CURRENT) as credit_card_balance_AMT_PAYMENT_TOTAL_CURRENT_min',\n 'max(AMT_PAYMENT_TOTAL_CURRENT) as credit_card_balance_AMT_PAYMENT_TOTAL_CURRENT_max',\n 'avg(AMT_PAYMENT_TOTAL_CURRENT) as credit_card_balance_AMT_PAYMENT_TOTAL_CURRENT_avg',\n 'std(AMT_PAYMENT_TOTAL_CURRENT) as credit_card_balance_AMT_PAYMENT_TOTAL_CURRENT_std',\n 'min(AMT_RECEIVABLE_PRINCIPAL) as credit_card_balance_AMT_RECEIVABLE_PRINCIPAL_min',\n 'max(AMT_RECEIVABLE_PRINCIPAL) as credit_card_balance_AMT_RECEIVABLE_PRINCIPAL_max',\n 'avg(AMT_RECEIVABLE_PRINCIPAL) as credit_card_balance_AMT_RECEIVABLE_PRINCIPAL_avg',\n 'std(AMT_RECEIVABLE_PRINCIPAL) as credit_card_balance_AMT_RECEIVABLE_PRINCIPAL_std',\n 'min(AMT_RECIVABLE) as credit_card_balance_AMT_RECIVABLE_min',\n 'max(AMT_RECIVABLE) as credit_card_balance_AMT_RECIVABLE_max',\n 'avg(AMT_RECIVABLE) as credit_card_balance_AMT_RECIVABLE_avg',\n 'std(AMT_RECIVABLE) as credit_card_balance_AMT_RECIVABLE_std',\n 'min(AMT_TOTAL_RECEIVABLE) as credit_card_balance_AMT_TOTAL_RECEIVABLE_min',\n 'max(AMT_TOTAL_RECEIVABLE) as credit_card_balance_AMT_TOTAL_RECEIVABLE_max',\n 'avg(AMT_TOTAL_RECEIVABLE) as credit_card_balance_AMT_TOTAL_RECEIVABLE_avg',\n 'std(AMT_TOTAL_RECEIVABLE) as credit_card_balance_AMT_TOTAL_RECEIVABLE_std',\n 'min(CNT_DRAWINGS_ATM_CURRENT) as credit_card_balance_CNT_DRAWINGS_ATM_CURRENT_min',\n 'max(CNT_DRAWINGS_ATM_CURRENT) as credit_card_balance_CNT_DRAWINGS_ATM_CURRENT_max',\n 'avg(CNT_DRAWINGS_ATM_CURRENT) as credit_card_balance_CNT_DRAWINGS_ATM_CURRENT_avg',\n 'std(CNT_DRAWINGS_ATM_CURRENT) as credit_card_balance_CNT_DRAWINGS_ATM_CURRENT_std',\n 'min(CNT_DRAWINGS_CURRENT) as credit_card_balance_CNT_DRAWINGS_CURRENT_min',\n 'max(CNT_DRAWINGS_CURRENT) as credit_card_balance_CNT_DRAWINGS_CURRENT_max',\n 'avg(CNT_DRAWINGS_CURRENT) as credit_card_balance_CNT_DRAWINGS_CURRENT_avg',\n 'std(CNT_DRAWINGS_CURRENT) as credit_card_balance_CNT_DRAWINGS_CURRENT_std',\n 'min(CNT_DRAWINGS_OTHER_CURRENT) as credit_card_balance_CNT_DRAWINGS_OTHER_CURRENT_min',\n 'max(CNT_DRAWINGS_OTHER_CURRENT) as credit_card_balance_CNT_DRAWINGS_OTHER_CURRENT_max',\n 'avg(CNT_DRAWINGS_OTHER_CURRENT) as credit_card_balance_CNT_DRAWINGS_OTHER_CURRENT_avg',\n 'std(CNT_DRAWINGS_OTHER_CURRENT) as credit_card_balance_CNT_DRAWINGS_OTHER_CURRENT_std',\n 'min(CNT_DRAWINGS_POS_CURRENT) as credit_card_balance_CNT_DRAWINGS_POS_CURRENT_min',\n 'max(CNT_DRAWINGS_POS_CURRENT) as credit_card_balance_CNT_DRAWINGS_POS_CURRENT_max',\n 'avg(CNT_DRAWINGS_POS_CURRENT) as credit_card_balance_CNT_DRAWINGS_POS_CURRENT_avg',\n 'std(CNT_DRAWINGS_POS_CURRENT) as credit_card_balance_CNT_DRAWINGS_POS_CURRENT_std',\n 'min(CNT_INSTALMENT_MATURE_CUM) as credit_card_balance_CNT_INSTALMENT_MATURE_CUM_min',\n 'max(CNT_INSTALMENT_MATURE_CUM) as credit_card_balance_CNT_INSTALMENT_MATURE_CUM_max',\n 'avg(CNT_INSTALMENT_MATURE_CUM) as credit_card_balance_CNT_INSTALMENT_MATURE_CUM_avg',\n 'std(CNT_INSTALMENT_MATURE_CUM) as credit_card_balance_CNT_INSTALMENT_MATURE_CUM_std']"
     },
     "metadata": {},
     "output_type": "execute_result",
     "execution_count": 4
    }
   ],
   "source": [
    "query_list"
   ],
   "metadata": {
    "collapsed": false,
    "pycharm": {
     "name": "#%%\n",
     "is_executing": false
    }
   }
  },
  {
   "cell_type": "code",
   "execution_count": 8,
   "outputs": [],
   "source": [
    "query = ' select ' + ', '.join(query_list) + ' from ' + tb + ' group by ' + 'SK_ID_CURR into ccb_attr' "
   ],
   "metadata": {
    "collapsed": false,
    "pycharm": {
     "name": "#%%\n",
     "is_executing": false
    }
   }
  },
  {
   "cell_type": "code",
   "execution_count": 9,
   "outputs": [
    {
     "name": "stdout",
     "text": [
      "(\" select SK_ID_CURR, sum(NAME_CONTRACT_STATUS = 'Active') / \"\n 'count(NAME_CONTRACT_STATUS)        as NAME_CONTRACT_STATUS_active, '\n \"sum(NAME_CONTRACT_STATUS = 'Completed') / count(NAME_CONTRACT_STATUS)     as \"\n \"NAME_CONTRACT_STATUS_completed, sum(NAME_CONTRACT_STATUS = 'Demand') / \"\n 'count(NAME_CONTRACT_STATUS)        as NAME_CONTRACT_STATUS_demand, '\n \"sum(NAME_CONTRACT_STATUS = 'Signed') / count(NAME_CONTRACT_STATUS)        as \"\n \"NAME_CONTRACT_STATUS_signed, sum(NAME_CONTRACT_STATUS = 'Sent proposal') / \"\n 'count(NAME_CONTRACT_STATUS) as NAME_CONTRACT_STATUS_sent_proposal, '\n \"sum(NAME_CONTRACT_STATUS = 'Refused') / count(NAME_CONTRACT_STATUS)       as \"\n \"NAME_CONTRACT_STATUS_refused, sum(NAME_CONTRACT_STATUS = 'Approved') / \"\n 'count(NAME_CONTRACT_STATUS)      as NAME_CONTRACT_STATUS_approved, '\n 'min(AMT_BALANCE) as credit_card_balance_AMT_BALANCE_min, max(AMT_BALANCE) as '\n 'credit_card_balance_AMT_BALANCE_max, avg(AMT_BALANCE) as '\n 'credit_card_balance_AMT_BALANCE_avg, std(AMT_BALANCE) as '\n 'credit_card_balance_AMT_BALANCE_std, '\n 'min(AMT_CREDIT_LIMIT_ACTUALAMT_DRAWINGS_ATM_CURRENT) as '\n 'credit_card_balance_AMT_CREDIT_LIMIT_ACTUALAMT_DRAWINGS_ATM_CURRENT_min, '\n 'max(AMT_CREDIT_LIMIT_ACTUALAMT_DRAWINGS_ATM_CURRENT) as '\n 'credit_card_balance_AMT_CREDIT_LIMIT_ACTUALAMT_DRAWINGS_ATM_CURRENT_max, '\n 'avg(AMT_CREDIT_LIMIT_ACTUALAMT_DRAWINGS_ATM_CURRENT) as '\n 'credit_card_balance_AMT_CREDIT_LIMIT_ACTUALAMT_DRAWINGS_ATM_CURRENT_avg, '\n 'std(AMT_CREDIT_LIMIT_ACTUALAMT_DRAWINGS_ATM_CURRENT) as '\n 'credit_card_balance_AMT_CREDIT_LIMIT_ACTUALAMT_DRAWINGS_ATM_CURRENT_std, '\n 'min(AMT_DRAWINGS_CURRENT) as credit_card_balance_AMT_DRAWINGS_CURRENT_min, '\n 'max(AMT_DRAWINGS_CURRENT) as credit_card_balance_AMT_DRAWINGS_CURRENT_max, '\n 'avg(AMT_DRAWINGS_CURRENT) as credit_card_balance_AMT_DRAWINGS_CURRENT_avg, '\n 'std(AMT_DRAWINGS_CURRENT) as credit_card_balance_AMT_DRAWINGS_CURRENT_std, '\n 'min(AMT_DRAWINGS_OTHER_CURRENT) as '\n 'credit_card_balance_AMT_DRAWINGS_OTHER_CURRENT_min, '\n 'max(AMT_DRAWINGS_OTHER_CURRENT) as '\n 'credit_card_balance_AMT_DRAWINGS_OTHER_CURRENT_max, '\n 'avg(AMT_DRAWINGS_OTHER_CURRENT) as '\n 'credit_card_balance_AMT_DRAWINGS_OTHER_CURRENT_avg, '\n 'std(AMT_DRAWINGS_OTHER_CURRENT) as '\n 'credit_card_balance_AMT_DRAWINGS_OTHER_CURRENT_std, '\n 'min(AMT_DRAWINGS_POS_CURRENT) as '\n 'credit_card_balance_AMT_DRAWINGS_POS_CURRENT_min, '\n 'max(AMT_DRAWINGS_POS_CURRENT) as '\n 'credit_card_balance_AMT_DRAWINGS_POS_CURRENT_max, '\n 'avg(AMT_DRAWINGS_POS_CURRENT) as '\n 'credit_card_balance_AMT_DRAWINGS_POS_CURRENT_avg, '\n 'std(AMT_DRAWINGS_POS_CURRENT) as '\n 'credit_card_balance_AMT_DRAWINGS_POS_CURRENT_std, '\n 'min(AMT_INST_MIN_REGULARITY) as '\n 'credit_card_balance_AMT_INST_MIN_REGULARITY_min, '\n 'max(AMT_INST_MIN_REGULARITY) as '\n 'credit_card_balance_AMT_INST_MIN_REGULARITY_max, '\n 'avg(AMT_INST_MIN_REGULARITY) as '\n 'credit_card_balance_AMT_INST_MIN_REGULARITY_avg, '\n 'std(AMT_INST_MIN_REGULARITY) as '\n 'credit_card_balance_AMT_INST_MIN_REGULARITY_std, min(AMT_PAYMENT_CURRENT) as '\n 'credit_card_balance_AMT_PAYMENT_CURRENT_min, max(AMT_PAYMENT_CURRENT) as '\n 'credit_card_balance_AMT_PAYMENT_CURRENT_max, avg(AMT_PAYMENT_CURRENT) as '\n 'credit_card_balance_AMT_PAYMENT_CURRENT_avg, std(AMT_PAYMENT_CURRENT) as '\n 'credit_card_balance_AMT_PAYMENT_CURRENT_std, min(AMT_PAYMENT_TOTAL_CURRENT) '\n 'as credit_card_balance_AMT_PAYMENT_TOTAL_CURRENT_min, '\n 'max(AMT_PAYMENT_TOTAL_CURRENT) as '\n 'credit_card_balance_AMT_PAYMENT_TOTAL_CURRENT_max, '\n 'avg(AMT_PAYMENT_TOTAL_CURRENT) as '\n 'credit_card_balance_AMT_PAYMENT_TOTAL_CURRENT_avg, '\n 'std(AMT_PAYMENT_TOTAL_CURRENT) as '\n 'credit_card_balance_AMT_PAYMENT_TOTAL_CURRENT_std, '\n 'min(AMT_RECEIVABLE_PRINCIPAL) as '\n 'credit_card_balance_AMT_RECEIVABLE_PRINCIPAL_min, '\n 'max(AMT_RECEIVABLE_PRINCIPAL) as '\n 'credit_card_balance_AMT_RECEIVABLE_PRINCIPAL_max, '\n 'avg(AMT_RECEIVABLE_PRINCIPAL) as '\n 'credit_card_balance_AMT_RECEIVABLE_PRINCIPAL_avg, '\n 'std(AMT_RECEIVABLE_PRINCIPAL) as '\n 'credit_card_balance_AMT_RECEIVABLE_PRINCIPAL_std, min(AMT_RECIVABLE) as '\n 'credit_card_balance_AMT_RECIVABLE_min, max(AMT_RECIVABLE) as '\n 'credit_card_balance_AMT_RECIVABLE_max, avg(AMT_RECIVABLE) as '\n 'credit_card_balance_AMT_RECIVABLE_avg, std(AMT_RECIVABLE) as '\n 'credit_card_balance_AMT_RECIVABLE_std, min(AMT_TOTAL_RECEIVABLE) as '\n 'credit_card_balance_AMT_TOTAL_RECEIVABLE_min, max(AMT_TOTAL_RECEIVABLE) as '\n 'credit_card_balance_AMT_TOTAL_RECEIVABLE_max, avg(AMT_TOTAL_RECEIVABLE) as '\n 'credit_card_balance_AMT_TOTAL_RECEIVABLE_avg, std(AMT_TOTAL_RECEIVABLE) as '\n 'credit_card_balance_AMT_TOTAL_RECEIVABLE_std, min(CNT_DRAWINGS_ATM_CURRENT) '\n 'as credit_card_balance_CNT_DRAWINGS_ATM_CURRENT_min, '\n 'max(CNT_DRAWINGS_ATM_CURRENT) as '\n 'credit_card_balance_CNT_DRAWINGS_ATM_CURRENT_max, '\n 'avg(CNT_DRAWINGS_ATM_CURRENT) as '\n 'credit_card_balance_CNT_DRAWINGS_ATM_CURRENT_avg, '\n 'std(CNT_DRAWINGS_ATM_CURRENT) as '\n 'credit_card_balance_CNT_DRAWINGS_ATM_CURRENT_std, min(CNT_DRAWINGS_CURRENT) '\n 'as credit_card_balance_CNT_DRAWINGS_CURRENT_min, max(CNT_DRAWINGS_CURRENT) '\n 'as credit_card_balance_CNT_DRAWINGS_CURRENT_max, avg(CNT_DRAWINGS_CURRENT) '\n 'as credit_card_balance_CNT_DRAWINGS_CURRENT_avg, std(CNT_DRAWINGS_CURRENT) '\n 'as credit_card_balance_CNT_DRAWINGS_CURRENT_std, '\n 'min(CNT_DRAWINGS_OTHER_CURRENT) as '\n 'credit_card_balance_CNT_DRAWINGS_OTHER_CURRENT_min, '\n 'max(CNT_DRAWINGS_OTHER_CURRENT) as '\n 'credit_card_balance_CNT_DRAWINGS_OTHER_CURRENT_max, '\n 'avg(CNT_DRAWINGS_OTHER_CURRENT) as '\n 'credit_card_balance_CNT_DRAWINGS_OTHER_CURRENT_avg, '\n 'std(CNT_DRAWINGS_OTHER_CURRENT) as '\n 'credit_card_balance_CNT_DRAWINGS_OTHER_CURRENT_std, '\n 'min(CNT_DRAWINGS_POS_CURRENT) as '\n 'credit_card_balance_CNT_DRAWINGS_POS_CURRENT_min, '\n 'max(CNT_DRAWINGS_POS_CURRENT) as '\n 'credit_card_balance_CNT_DRAWINGS_POS_CURRENT_max, '\n 'avg(CNT_DRAWINGS_POS_CURRENT) as '\n 'credit_card_balance_CNT_DRAWINGS_POS_CURRENT_avg, '\n 'std(CNT_DRAWINGS_POS_CURRENT) as '\n 'credit_card_balance_CNT_DRAWINGS_POS_CURRENT_std, '\n 'min(CNT_INSTALMENT_MATURE_CUM) as '\n 'credit_card_balance_CNT_INSTALMENT_MATURE_CUM_min, '\n 'max(CNT_INSTALMENT_MATURE_CUM) as '\n 'credit_card_balance_CNT_INSTALMENT_MATURE_CUM_max, '\n 'avg(CNT_INSTALMENT_MATURE_CUM) as '\n 'credit_card_balance_CNT_INSTALMENT_MATURE_CUM_avg, '\n 'std(CNT_INSTALMENT_MATURE_CUM) as '\n 'credit_card_balance_CNT_INSTALMENT_MATURE_CUM_std from credit_card_balance '\n 'group by SK_ID_CURR')\n"
     ],
     "output_type": "stream"
    }
   ],
   "source": [
    "from pprint import pprint\n",
    "pprint(query)\n",
    "\n"
   ],
   "metadata": {
    "collapsed": false,
    "pycharm": {
     "name": "#%%\n",
     "is_executing": false
    }
   }
  },
  {
   "cell_type": "code",
   "execution_count": null,
   "outputs": [],
   "source": [
    "\n"
   ],
   "metadata": {
    "collapsed": false,
    "pycharm": {
     "name": "#%%\n"
    }
   }
  }
 ],
 "metadata": {
  "kernelspec": {
   "display_name": "Python 3",
   "language": "python",
   "name": "python3"
  },
  "language_info": {
   "codemirror_mode": {
    "name": "ipython",
    "version": 2
   },
   "file_extension": ".py",
   "mimetype": "text/x-python",
   "name": "python",
   "nbconvert_exporter": "python",
   "pygments_lexer": "ipython2",
   "version": "2.7.6"
  },
  "pycharm": {
   "stem_cell": {
    "cell_type": "raw",
    "source": [],
    "metadata": {
     "collapsed": false
    }
   }
  }
 },
 "nbformat": 4,
 "nbformat_minor": 0
}